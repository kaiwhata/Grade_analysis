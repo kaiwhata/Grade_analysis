{
 "metadata": {
  "name": "",
  "signature": "sha256:09df807246173678d0232f6897edd2c9009662f1d76bf39e20931a0bc57ddbb5"
 },
 "nbformat": 3,
 "nbformat_minor": 0,
 "worksheets": [
  {
   "cells": [
    {
     "cell_type": "code",
     "collapsed": false,
     "input": [
      "%%bash\n",
      "ls"
     ],
     "language": "python",
     "metadata": {},
     "outputs": [
      {
       "output_type": "stream",
       "stream": "stdout",
       "text": [
        "gc_2014.AF.SCIE211_fullgc_2015-01-26-12-54-44.csv\n",
        "SCIE211 grades.ipynb\n",
        "SR_data\n",
        "SR_data.zip\n"
       ]
      }
     ],
     "prompt_number": 10
    },
    {
     "cell_type": "code",
     "collapsed": false,
     "input": [
      "ifile = open('gc_2014.AF.SCIE211_fullgc_2015-01-26-12-54-44.csv', 'r')\n",
      "\n",
      "data = []\n",
      "for line in ifile.readlines():\n",
      "    line=line.strip()\n",
      "    line=line.split('\",\"')\n",
      "    row = []\n",
      "    for item in line:\n",
      "        item=item.strip('\"')\n",
      "        row.append(item)\n",
      "    data.append(row)\n",
      "ifile.close()\n"
     ],
     "language": "python",
     "metadata": {},
     "outputs": [],
     "prompt_number": 11
    },
    {
     "cell_type": "code",
     "collapsed": false,
     "input": [
      "#columns\n",
      "#name, name, username, studentID, date\n",
      "\n",
      "#print header data:\n",
      "i=1\n",
      "for item in data[0]:\n",
      "   print i, item\n",
      "   i+=1\n",
      "print"
     ],
     "language": "python",
     "metadata": {},
     "outputs": [
      {
       "output_type": "stream",
       "stream": "stdout",
       "text": [
        "1 \ufeff\"Last Name\n",
        "2 First Name\n",
        "3 Username\n",
        "4 Student ID\n",
        "5 Last Access\n",
        "6 Availability\n",
        "7 Learning Contract [Total Pts: 1] |272398\n",
        "8 Module 1 Quiz: Science - What, Why and How [Total Pts: 16] |272275\n",
        "9 Module 1 Reflection Piece [Total Pts: 100] |281160\n",
        "10 Module 2 Quiz: Genes &amp; Gene Therapy [Total Pts: 33] |272142\n",
        "11 Module 2 Reflection Piece [Total Pts: 100] |281612\n",
        "12 Module 3 Quiz: Climate Change Perspectives [Total Pts: 30] |281710\n",
        "13 Module 3 Reflection Piece [Total Pts: 100] |281613\n",
        "14 Module 4 Quiz: Living With Nature [Total Pts: 30] |282513\n",
        "15 Module 4 Reflection Piece [Total Pts: 100] |281614\n",
        "16 Module 5 Quiz: New Technologies [Total Pts: 30] |283896\n",
        "17 Module 5 Reflection Piece [Total Pts: 100] |281615\n",
        "18 Structured Assignment 1 [Total Pts: 44] |281709\n",
        "19 Structured Assignment 2 [Total Pts: 44] |283359\n",
        "20 Module 2 Assignment [Total Pts: 0] |281707\n",
        "21 Module 3 Assignment [Total Pts: 0] |281708\n",
        "22 Module 4 Assignment [Total Pts: 0] |282976\n",
        "23 Module 5 Assignment [Total Pts: 0] |284225\n",
        "24 Final Essay - Module Two [Total Pts: 100] |281759\n",
        "25 Final Essay - Module Three [Total Pts: 100] |272210\n",
        "26 Final Essay - Module Four [Total Pts: 0] |272211\n",
        "27 Final Essay - Module Five [Total Pts: 0] |272212\n",
        "28 Library Quiz 1: Ethical Use of Information &amp; Plagiarism [Total Pts: 42] |281350\n",
        "29 Library Quiz 2: Get it Right!! Plan-Search-Find-Write and Cite Right [Total Pts: 44] |281351\n",
        "30 Library Quiz 3: Thinking critically about information and evaluating information sources [Total Pts: 54] |281352\n",
        "31 Module 5 Quiz: Nature's Patterns and Ingredients(1) [Total Pts: 86] |282692\n",
        "32 Test Total (Weighted) [Total Pts: up to 29.11111] |284229\n",
        "33 Library quiz total [Total Pts: up to 46] |284230\",,\n",
        "\n"
       ]
      }
     ],
     "prompt_number": 12
    },
    {
     "cell_type": "heading",
     "level": 1,
     "metadata": {},
     "source": [
      "Grade Histograms"
     ]
    },
    {
     "cell_type": "code",
     "collapsed": false,
     "input": [
      "#define method to return histogram data for student info\n",
      "def hist_grade(assessment_name):\n",
      "    column = data[0].index(assessment_name)\n",
      "    \n",
      "    out = []\n",
      "    for row in data[1:]:\n",
      "        if not row[column]=='':\n",
      "            try:\n",
      "                out.append(float(row[column]))\n",
      "            except:\n",
      "                print row[column]\n",
      "        else:\n",
      "            print 'skip'\n",
      "            #out.append('none')\n",
      "    return out"
     ],
     "language": "python",
     "metadata": {},
     "outputs": [],
     "prompt_number": 13
    },
    {
     "cell_type": "code",
     "collapsed": false,
     "input": [
      "def hist_assessment(assessment_name, max_grade):\n",
      "    a = hist_grade(assessment_name)\n",
      "    #print sorted(a)\n",
      "    print\n",
      "    print 'Min mark: '+str(min(a))\n",
      "    print 'Max mark: '+str(max(a))\n",
      "\n",
      "    figure(1, figsize = (12,6) )\n",
      "    title(assessment_name, fontsize = 15)\n",
      "    b = hist(a, bins = range(max_grade+2))\n",
      "    n = len(a)\n",
      "    \n",
      "    xlabel('Score', fontsize = 15)\n",
      "    xticks([i+0.5 for i in range(max_grade+2)],[i for i in range(max_grade+2)] )\n",
      "    ylabel('Number of Grades (n = %s)' % n, fontsize = 15)\n",
      "    xlim(0,max_grade+1)\n",
      "\n",
      "    #for x in b:\n",
      "    #print x\n",
      "    return b"
     ],
     "language": "python",
     "metadata": {},
     "outputs": [],
     "prompt_number": 14
    },
    {
     "cell_type": "code",
     "collapsed": false,
     "input": [
      "hist_assessment('Module 1 Quiz: Science - What, Why and How [Total Pts: 16] |272275', 16)"
     ],
     "language": "python",
     "metadata": {},
     "outputs": [
      {
       "output_type": "stream",
       "stream": "stdout",
       "text": [
        "skip\n",
        "skip\n",
        "skip\n",
        "skip\n",
        "skip\n",
        "skip\n",
        "Needs Grading(0.00)\n",
        "skip\n",
        "skip\n",
        "skip\n",
        "skip\n",
        "\n",
        "Min mark: 0.0\n",
        "Max mark: 16.0\n"
       ]
      },
      {
       "metadata": {},
       "output_type": "pyout",
       "prompt_number": 15,
       "text": [
        "(array([  1.,   0.,   0.,   0.,   1.,   1.,   1.,   3.,   3.,   9.,  10.,\n",
        "         15.,  21.,  19.,  18.,   6.,   2.]),\n",
        " array([ 0,  1,  2,  3,  4,  5,  6,  7,  8,  9, 10, 11, 12, 13, 14, 15, 16,\n",
        "        17]),\n",
        " <a list of 17 Patch objects>)"
       ]
      },
      {
       "metadata": {},
       "output_type": "display_data",
       "png": "[encoded data removed]",
       "text": [
        "<matplotlib.figure.Figure at 0x7fe706142b90>"
       ]
      }
     ],
     "prompt_number": 15
    },
    {
     "cell_type": "heading",
     "level": 1,
     "metadata": {},
     "source": [
      "Paper grade data"
     ]
    },
    {
     "cell_type": "code",
     "collapsed": false,
     "input": [
      "%%bash\n",
      "ls SR_data/"
     ],
     "language": "python",
     "metadata": {},
     "outputs": [
      {
       "output_type": "stream",
       "stream": "stdout",
       "text": [
        "201101_SCIE_201_27Jan2015.csv\n",
        "201201_SCIE_201_27Jan2015.csv\n",
        "201301_SCIE_211_27Jan2015.csv\n",
        "201401_SCIE_211_27Jan2015.csv\n",
        "201501_SCIE_211_27Jan2015.csv\n"
       ]
      }
     ],
     "prompt_number": 16
    },
    {
     "cell_type": "code",
     "collapsed": false,
     "input": [
      "def loadin(filename):\n",
      "    ifile = open(filename, 'r')\n",
      "\n",
      "    data = []\n",
      "    for line in ifile.readlines():\n",
      "        line=line.strip()\n",
      "        line=line.split(',')\n",
      "        row = []\n",
      "        for item in line:\n",
      "            item=item.strip('\"')\n",
      "            row.append(item)\n",
      "        data.append(row)\n",
      "        #data.append(line)\n",
      "    ifile.close()\n",
      "    return data"
     ],
     "language": "python",
     "metadata": {},
     "outputs": [],
     "prompt_number": 17
    },
    {
     "cell_type": "code",
     "collapsed": false,
     "input": [
      "SCIE211_2013 = loadin('SR_data/201301_SCIE_211_27Jan2015.csv')\n",
      "SCIE211_2014 = loadin('SR_data/201401_SCIE_211_27Jan2015.csv') #incomplete paper\n",
      "SCIE211_2015 = loadin('SR_data/201501_SCIE_211_27Jan2015.csv') #paper not yet started"
     ],
     "language": "python",
     "metadata": {},
     "outputs": [],
     "prompt_number": 18
    },
    {
     "cell_type": "heading",
     "level": 1,
     "metadata": {},
     "source": [
      "Columns"
     ]
    },
    {
     "cell_type": "code",
     "collapsed": false,
     "input": [
      "for i in range(len(SCIE211_2013[0])):\n",
      "    print i, SCIE211_2013[0][i]"
     ],
     "language": "python",
     "metadata": {},
     "outputs": [
      {
       "output_type": "stream",
       "stream": "stdout",
       "text": [
        "0 Year\n",
        "1 CRN\n",
        "2 Subj\n",
        "3 Crse\n",
        "4 PTrm\n",
        "5 Strm\n",
        "6 Student ID\n",
        "7 Last Name\n",
        "8 First Name\n",
        "9 Middle Name\n",
        "10 Preferred Name\n",
        "11 Enrl\n",
        "12 Reg\n",
        "13 Seq\n",
        "14 Reg Dte\n",
        "15 Grd\n",
        "16 Resd Cde\n",
        "17 Fees\n",
        "18 Deg 1\n",
        "19 Maj 1\n",
        "20 Maj 2\n",
        "21 Deg 2\n",
        "22 Maj 1\n",
        "23 Maj 2\n",
        "24 Ethnicity\n",
        "25 Sex\n",
        "26 E-mail\n",
        "27 Addr1\n",
        "28 Addr2\n",
        "29 Addr3\n",
        "30 Addr4\n",
        "31 Postcode\n",
        "32 Country\n",
        "33 TE Phone\n",
        "34 MO Phone\n",
        "35 1st Instrument\n",
        "36 2nd Instrument\n"
       ]
      }
     ],
     "prompt_number": 19
    },
    {
     "cell_type": "code",
     "collapsed": false,
     "input": [
      "def paper_hist(data):\n",
      "    grades = ['A+', 'A','A-', 'B+', 'B', 'B-', 'C+', 'C', 'C-', 'D', 'E', 'K' ]\n",
      "    ex = 0\n",
      "    h = []\n",
      "    for row in data[1:]:\n",
      "        if row[15].strip() in grades:\n",
      "            h.append(row[15].strip()) #grade data\n",
      "        else:\n",
      "            print 'skip '+str(row[15])\n",
      "            ex+=1\n",
      "    print\n",
      "    print 'Excluded: '+str(ex)\n",
      "    print \n",
      "    \n",
      "    #bar graph\n",
      "    figure(1, figsize = (12,6) )\n",
      "    title(str(data[1][2])+str(data[1][3])+' '+str(data[1][0]), fontsize = 15)\n",
      "    \n",
      "    b = []\n",
      "    for grade in grades:\n",
      "        b.append(h.count(grade))\n",
      "    \n",
      "    bar([i for i in range(len(grades))],b , width = 1.0) #x, y, width\n",
      "    \n",
      "    n = len(h)\n",
      "    \n",
      "    #print h\n",
      "    \n",
      "    xlabel('Grade', fontsize = 15)\n",
      "    xticks([i+0.5 for i in range(len(grades)+2)],grades)\n",
      "    ylabel('Number of Grades (n = %s)' % n, fontsize = 15)\n",
      "    xlim(0,len(grades))\n",
      "    \n",
      "    failed=passed=0\n",
      "    for k in range(len(grades)):\n",
      "        print grades[k], b[k]\n",
      "        if not grades[k] in ['D', 'E', 'K']:\n",
      "            passed=passed+b[k]\n",
      "        else:\n",
      "            failed=failed+b[k]\n",
      "    print\n",
      "    print 'Passed: '+str(passed)\n",
      "    print 'Failed: '+str(failed)"
     ],
     "language": "python",
     "metadata": {},
     "outputs": [],
     "prompt_number": 20
    },
    {
     "cell_type": "code",
     "collapsed": false,
     "input": [
      "paper_hist(SCIE211_2013)"
     ],
     "language": "python",
     "metadata": {},
     "outputs": [
      {
       "output_type": "stream",
       "stream": "stdout",
       "text": [
        "skip \n",
        "skip \n",
        "skip \n",
        "skip WD\n",
        "skip \n",
        "skip WD\n",
        "skip WD\n",
        "skip WD\n",
        "skip \n",
        "skip \n",
        "skip \n",
        "skip \n",
        "skip \n",
        "skip WD\n",
        "skip \n",
        "skip \n",
        "skip U\n",
        "skip \n",
        "skip \n",
        "skip WD\n",
        "\n",
        "Excluded: 20\n",
        "\n",
        "A+"
       ]
      },
      {
       "output_type": "stream",
       "stream": "stdout",
       "text": [
        " 17\n",
        "A 16\n",
        "A- 25\n",
        "B+ 28\n",
        "B 27\n",
        "B- 19\n",
        "C+ 3\n",
        "C 5\n",
        "C- 0\n",
        "D 7\n",
        "E 32\n",
        "K 0\n",
        "\n",
        "Passed: 140\n",
        "Failed: 39\n"
       ]
      },
      {
       "metadata": {},
       "output_type": "display_data",
       "png": "[encoded data removed]",
       "text": [
        "<matplotlib.figure.Figure at 0x7fe7060e09d0>"
       ]
      }
     ],
     "prompt_number": 21
    },
    {
     "cell_type": "heading",
     "level": 1,
     "metadata": {},
     "source": [
      "following 2 papers have yet to be completed"
     ]
    },
    {
     "cell_type": "code",
     "collapsed": true,
     "input": [
      "#paper_hist(SCIE211_2014)"
     ],
     "language": "python",
     "metadata": {},
     "outputs": [],
     "prompt_number": 22
    },
    {
     "cell_type": "code",
     "collapsed": true,
     "input": [
      "#paper_hist(SCIE211_2015)"
     ],
     "language": "python",
     "metadata": {},
     "outputs": [],
     "prompt_number": 23
    },
    {
     "cell_type": "heading",
     "level": 1,
     "metadata": {},
     "source": [
      "Total Enrolments"
     ]
    },
    {
     "cell_type": "code",
     "collapsed": false,
     "input": [
      "def paper_enrolments(data):\n",
      "    grades = ['A+', 'A','A-', 'B+', 'B', 'B-', 'C+', 'C', 'C-', 'D', 'E', 'K' ]\n",
      "    ex = 0\n",
      "    wd = 0\n",
      "    enrolled = 0\n",
      "    for row in data[1:]:\n",
      "        if row[15].strip() in grades:\n",
      "            enrolled=enrolled+1\n",
      "        elif row[15].strip() == 'WD':\n",
      "            wd=wd+1\n",
      "        else:\n",
      "            ex+=1\n",
      "    print 'Enrolled: '+str(enrolled)+' (Excluding withdrawn)'\n",
      "    print 'Withdrawn: '+str(wd)\n",
      "    print 'Excluded: '+str(ex)+' (No grade data)'\n",
      "    return enrolled, wd, ex"
     ],
     "language": "python",
     "metadata": {},
     "outputs": [],
     "prompt_number": 62
    },
    {
     "cell_type": "code",
     "collapsed": false,
     "input": [
      "def paper_enrolment_status(data):\n",
      "    #includes withdrawn and no grade students\n",
      "    statuses = []\n",
      "    stat_list = []\n",
      "    for row in data[1:]:\n",
      "        if not row[12].strip() in statuses:\n",
      "            statuses.append(row[12].strip())\n",
      "        stat_list.append(row[12].strip())\n",
      "\n",
      "    for status in statuses:\n",
      "        print status, stat_list.count(status)"
     ],
     "language": "python",
     "metadata": {},
     "outputs": [],
     "prompt_number": 25
    },
    {
     "cell_type": "code",
     "collapsed": false,
     "input": [
      "paper_enrolments(SCIE211_2013)"
     ],
     "language": "python",
     "metadata": {},
     "outputs": [
      {
       "output_type": "stream",
       "stream": "stdout",
       "text": [
        "Enrolled: 179 (Excluding withdrawn)\n",
        "Withdrawn: 6\n",
        "Excluded: 14 (No grade data)\n"
       ]
      }
     ],
     "prompt_number": 26
    },
    {
     "cell_type": "code",
     "collapsed": false,
     "input": [
      "paper_enrolment_status(SCIE211_2013)"
     ],
     "language": "python",
     "metadata": {},
     "outputs": [
      {
       "output_type": "stream",
       "stream": "stdout",
       "text": [
        "DE 1\n",
        "RE 132\n",
        "DD 9\n",
        "RW 47\n",
        "DN 6\n",
        "NS 1\n",
        "DA 1\n",
        "PC 1\n",
        "AW 1\n"
       ]
      }
     ],
     "prompt_number": 27
    },
    {
     "cell_type": "code",
     "collapsed": false,
     "input": [
      "paper_enrolments(SCIE211_2014)"
     ],
     "language": "python",
     "metadata": {},
     "outputs": [
      {
       "output_type": "stream",
       "stream": "stdout",
       "text": [
        "Enrolled: 0 (Excluding withdrawn)\n",
        "Withdrawn: 2\n",
        "Excluded: 222 (No grade data)\n"
       ]
      }
     ],
     "prompt_number": 28
    },
    {
     "cell_type": "code",
     "collapsed": false,
     "input": [
      "paper_enrolment_status(SCIE211_2014)"
     ],
     "language": "python",
     "metadata": {},
     "outputs": [
      {
       "output_type": "stream",
       "stream": "stdout",
       "text": [
        "RE 145\n",
        "RW 55\n",
        "DD 12\n",
        "AW 8\n",
        "NS 1\n",
        "DE 1\n",
        "DN 2\n"
       ]
      }
     ],
     "prompt_number": 29
    },
    {
     "cell_type": "heading",
     "level": 1,
     "metadata": {},
     "source": [
      "Gender Split"
     ]
    },
    {
     "cell_type": "code",
     "collapsed": false,
     "input": [
      "def gender_fees(data):\n",
      "    #includes withdrawn and no-grade students\n",
      "    grades = ['A+', 'A','A-', 'B+', 'B', 'B-', 'C+', 'C', 'C-', 'D', 'E', 'K' ]\n",
      "    m=f=0\n",
      "    d=i=0\n",
      "    ex = wd = 0\n",
      "    for row in data[1:]:\n",
      "        if row[15].strip() in grades:\n",
      "            if row[17]=='Dom':\n",
      "                d+=1\n",
      "            elif row[17]=='Intl':\n",
      "                i+=1\n",
      "            else:\n",
      "                print 'Fees Unknown'\n",
      "            if row[25]=='M':\n",
      "                m+=1\n",
      "            elif row[25]=='F':\n",
      "                f+=1\n",
      "            else:\n",
      "                print 'Gender Unknown'\n",
      "        elif row[15].strip() == 'WD':\n",
      "            wd=wd+1\n",
      "        else:\n",
      "            ex+=1\n",
      "    print 'Male :'+str(m)\n",
      "    print 'Female :'+str(f)\n",
      "    print\n",
      "    print 'Domestic :'+str(d)\n",
      "    print 'International :'+str(i)\n",
      "    print\n",
      "    print '(Doesnt include the following)'\n",
      "    print 'Withdrawn: '+str(wd)\n",
      "    print 'Excluded: '+str(ex)+' (No grade data)'\n",
      "    return d, i, m, f "
     ],
     "language": "python",
     "metadata": {},
     "outputs": [],
     "prompt_number": 78
    },
    {
     "cell_type": "code",
     "collapsed": false,
     "input": [
      "gender_fees(SCIE211_2013)"
     ],
     "language": "python",
     "metadata": {},
     "outputs": [
      {
       "output_type": "stream",
       "stream": "stdout",
       "text": [
        "Male :103\n",
        "Female :96\n",
        "\n",
        "Domestic :184\n",
        "International :15\n",
        "\n"
       ]
      }
     ],
     "prompt_number": 31
    },
    {
     "cell_type": "code",
     "collapsed": false,
     "input": [
      "gender_fees(SCIE211_2014)"
     ],
     "language": "python",
     "metadata": {},
     "outputs": [
      {
       "output_type": "stream",
       "stream": "stdout",
       "text": [
        "Male :106\n",
        "Female :118\n",
        "\n",
        "Domestic :202\n",
        "International :22\n",
        "\n"
       ]
      }
     ],
     "prompt_number": 32
    },
    {
     "cell_type": "heading",
     "level": 1,
     "metadata": {},
     "source": [
      "Ethnicity Split"
     ]
    },
    {
     "cell_type": "code",
     "collapsed": false,
     "input": [
      "def paper_ethnicities(data):\n",
      "    #includes withdrawn and no-grade students\n",
      "    ethnicities = []\n",
      "    eth_list = []\n",
      "    for row in data[1:]:\n",
      "        if not row[24].strip() in ethnicities:\n",
      "            ethnicities.append(row[24].strip())\n",
      "        eth_list.append(row[24].strip())\n",
      "        \n",
      "    counts = []\n",
      "    for ethnicity in ethnicities:\n",
      "        print ethnicity, eth_list.count(ethnicity)\n",
      "        counts.append(eth_list.count(ethnicity))\n",
      "    return ethnicities, eth_list"
     ],
     "language": "python",
     "metadata": {},
     "outputs": [],
     "prompt_number": 148
    },
    {
     "cell_type": "code",
     "collapsed": false,
     "input": [
      "paper_ethnicities(SCIE211_2013)"
     ],
     "language": "python",
     "metadata": {},
     "outputs": [
      {
       "output_type": "stream",
       "stream": "stdout",
       "text": [
        "Middle Eastern 3\n",
        "Other 10\n",
        "Cook Island Maori 2\n",
        "New Zealand European/Pakeha 109\n",
        "Other Southeast Asian 5\n",
        "Other Asian 2\n",
        "Filipino 2\n",
        "African 3\n",
        "New Zealand Maori 19\n",
        "Indian 6\n",
        "Other European 7\n",
        "British/Irish 9\n",
        "Japanese 1\n",
        "Other Pacific Peoples 2\n",
        "Dutch 2\n",
        "Chinese 5\n",
        "Samoan 4\n",
        "German 1\n",
        "Australian 2\n",
        "Vietnamese 2\n",
        "Sri Lankan 2\n",
        "Fijian 1\n"
       ]
      }
     ],
     "prompt_number": 34
    },
    {
     "cell_type": "code",
     "collapsed": false,
     "input": [
      "paper_ethnicities(SCIE211_2014)"
     ],
     "language": "python",
     "metadata": {},
     "outputs": [
      {
       "output_type": "stream",
       "stream": "stdout",
       "text": [
        "Other Asian 11\n",
        "Other Southeast Asian 2\n",
        "African 5\n",
        "New Zealand Maori 19\n",
        "New Zealand European/Pakeha 123\n",
        "British/Irish 15\n",
        "Other 5\n",
        "Indian 4\n",
        "Filipino 2\n",
        "Samoan 6\n",
        "Sri Lankan 2\n",
        "Dutch 4\n",
        "Middle Eastern 2\n",
        "Chinese 5\n",
        "Cambodian 1\n",
        "Australian 3\n",
        "Polish 1\n",
        "Other European 4\n",
        "Cook Island Maori 1\n",
        "Greek 1\n",
        "Latin American 5\n",
        "German 1\n",
        "Fijian 1\n",
        "Tongan 1\n"
       ]
      }
     ],
     "prompt_number": 35
    },
    {
     "cell_type": "heading",
     "level": 1,
     "metadata": {},
     "source": [
      "Pass/Fail"
     ]
    },
    {
     "cell_type": "code",
     "collapsed": false,
     "input": [
      "def pf(data):    \n",
      "    grades = ['A+', 'A','A-', 'B+', 'B', 'B-', 'C+', 'C', 'C-', 'D', 'E', 'K' ]\n",
      "    ex = 0\n",
      "    h = []\n",
      "    for row in data[1:]:\n",
      "        if row[15].strip() in grades:\n",
      "            h.append(row[15].strip()) #grade data\n",
      "        else:\n",
      "            print 'skip '+str(row[15])\n",
      "            ex+=1\n",
      "    print\n",
      "    print 'Excluded: '+str(ex)\n",
      "    print \n",
      "    \n",
      "    b = []\n",
      "    for grade in grades:\n",
      "        b.append(h.count(grade))\n",
      "    \n",
      "    n = len(h)\n",
      "    \n",
      "    failed=passed=0\n",
      "    for k in range(len(grades)):\n",
      "        print grades[k], b[k]\n",
      "        if not grades[k] in ['D', 'E', 'K']:\n",
      "            passed=passed+b[k]\n",
      "        else:\n",
      "            failed=failed+b[k]\n",
      "    print\n",
      "    print 'Passed: '+str(passed)\n",
      "    print 'Failed: '+str(failed)\n",
      "    return passed, failed"
     ],
     "language": "python",
     "metadata": {},
     "outputs": [],
     "prompt_number": 56
    },
    {
     "cell_type": "code",
     "collapsed": false,
     "input": [
      "pf(SCIE211_2013)"
     ],
     "language": "python",
     "metadata": {},
     "outputs": [
      {
       "output_type": "stream",
       "stream": "stdout",
       "text": [
        "skip \n",
        "skip \n",
        "skip \n",
        "skip WD\n",
        "skip \n",
        "skip WD\n",
        "skip WD\n",
        "skip WD\n",
        "skip \n",
        "skip \n",
        "skip \n",
        "skip \n",
        "skip \n",
        "skip WD\n",
        "skip \n",
        "skip \n",
        "skip U\n",
        "skip \n",
        "skip \n",
        "skip WD\n",
        "\n",
        "Excluded: 20\n",
        "\n",
        "A+ 17\n",
        "A 16\n",
        "A- 25\n",
        "B+ 28\n",
        "B 27\n",
        "B- 19\n",
        "C+ 3\n",
        "C 5\n",
        "C- 0\n",
        "D 7\n",
        "E 32\n",
        "K 0\n",
        "\n",
        "Passed: 140\n",
        "Failed: 39\n"
       ]
      },
      {
       "metadata": {},
       "output_type": "pyout",
       "prompt_number": 57,
       "text": [
        "(140, 39)"
       ]
      }
     ],
     "prompt_number": 57
    },
    {
     "cell_type": "heading",
     "level": 1,
     "metadata": {},
     "source": [
      "Degree/Major split"
     ]
    },
    {
     "cell_type": "code",
     "collapsed": false,
     "input": [
      "def paper_degree(data):\n",
      "    #includes withdrawn and no-grade students\n",
      "    degrees = []\n",
      "    deg_list = []\n",
      "    for row in data[1:]:\n",
      "        if not row[18].strip() in degrees:\n",
      "            degrees.append(row[18].strip())\n",
      "        deg_list.append(row[18].strip())\n",
      "\n",
      "    for degree in degrees:\n",
      "        print degree, deg_list.count(degree)\n",
      "    return degrees, deg_list"
     ],
     "language": "python",
     "metadata": {},
     "outputs": [],
     "prompt_number": 120
    },
    {
     "cell_type": "code",
     "collapsed": false,
     "input": [
      "paper_degree(SCIE211_2013)"
     ],
     "language": "python",
     "metadata": {},
     "outputs": [
      {
       "output_type": "stream",
       "stream": "stdout",
       "text": [
        "BSC 125\n",
        "BBMEDS 14\n",
        "BA 17\n",
        "BCOM 16\n",
        "BBSC 3\n",
        "LLB 6\n",
        "BEHONS 7\n",
        "COP 1\n",
        "BDI 1\n",
        "BMUSIC 2\n",
        "GDSCI 3\n",
        "BCA/BS 1\n",
        "BAS 2\n",
        "BAHONS 1\n"
       ]
      },
      {
       "metadata": {},
       "output_type": "pyout",
       "prompt_number": 121,
       "text": [
        "(['BSC',\n",
        "  'BBMEDS',\n",
        "  'BA',\n",
        "  'BCOM',\n",
        "  'BBSC',\n",
        "  'LLB',\n",
        "  'BEHONS',\n",
        "  'COP',\n",
        "  'BDI',\n",
        "  'BMUSIC',\n",
        "  'GDSCI',\n",
        "  'BCA/BS',\n",
        "  'BAS',\n",
        "  'BAHONS'],\n",
        " ['BSC',\n",
        "  'BBMEDS',\n",
        "  'BA',\n",
        "  'BCOM',\n",
        "  'BSC',\n",
        "  'BSC',\n",
        "  'BBMEDS',\n",
        "  'BA',\n",
        "  'BBSC',\n",
        "  'BSC',\n",
        "  'BSC',\n",
        "  'BSC',\n",
        "  'LLB',\n",
        "  'BSC',\n",
        "  'BSC',\n",
        "  'BBMEDS',\n",
        "  'BSC',\n",
        "  'BSC',\n",
        "  'BEHONS',\n",
        "  'BBMEDS',\n",
        "  'BSC',\n",
        "  'BSC',\n",
        "  'BCOM',\n",
        "  'BA',\n",
        "  'BBMEDS',\n",
        "  'BSC',\n",
        "  'BSC',\n",
        "  'BSC',\n",
        "  'BCOM',\n",
        "  'BSC',\n",
        "  'BSC',\n",
        "  'BA',\n",
        "  'COP',\n",
        "  'BCOM',\n",
        "  'BSC',\n",
        "  'BSC',\n",
        "  'BSC',\n",
        "  'LLB',\n",
        "  'BSC',\n",
        "  'BSC',\n",
        "  'BSC',\n",
        "  'BSC',\n",
        "  'BSC',\n",
        "  'BSC',\n",
        "  'BSC',\n",
        "  'BSC',\n",
        "  'BSC',\n",
        "  'BSC',\n",
        "  'BSC',\n",
        "  'BSC',\n",
        "  'BSC',\n",
        "  'BA',\n",
        "  'BSC',\n",
        "  'BEHONS',\n",
        "  'BSC',\n",
        "  'BSC',\n",
        "  'BCOM',\n",
        "  'BSC',\n",
        "  'BSC',\n",
        "  'BSC',\n",
        "  'BSC',\n",
        "  'BCOM',\n",
        "  'BSC',\n",
        "  'BSC',\n",
        "  'BSC',\n",
        "  'BSC',\n",
        "  'BA',\n",
        "  'BBMEDS',\n",
        "  'BEHONS',\n",
        "  'BA',\n",
        "  'LLB',\n",
        "  'BSC',\n",
        "  'BBMEDS',\n",
        "  'BBMEDS',\n",
        "  'BBMEDS',\n",
        "  'BSC',\n",
        "  'BA',\n",
        "  'BSC',\n",
        "  'BSC',\n",
        "  'BSC',\n",
        "  'BA',\n",
        "  'BSC',\n",
        "  'LLB',\n",
        "  'BCOM',\n",
        "  'BDI',\n",
        "  'BSC',\n",
        "  'BSC',\n",
        "  'BMUSIC',\n",
        "  'BSC',\n",
        "  'BSC',\n",
        "  'BSC',\n",
        "  'BCOM',\n",
        "  'BSC',\n",
        "  'BSC',\n",
        "  'BA',\n",
        "  'BSC',\n",
        "  'GDSCI',\n",
        "  'BSC',\n",
        "  'BA',\n",
        "  'BSC',\n",
        "  'BSC',\n",
        "  'BCA/BS',\n",
        "  'BSC',\n",
        "  'BSC',\n",
        "  'BSC',\n",
        "  'BSC',\n",
        "  'BCOM',\n",
        "  'BSC',\n",
        "  'BSC',\n",
        "  'BSC',\n",
        "  'BBSC',\n",
        "  'BA',\n",
        "  'BSC',\n",
        "  'BCOM',\n",
        "  'BSC',\n",
        "  'BSC',\n",
        "  'BSC',\n",
        "  'BEHONS',\n",
        "  'BMUSIC',\n",
        "  'BSC',\n",
        "  'BBMEDS',\n",
        "  'BSC',\n",
        "  'BSC',\n",
        "  'BSC',\n",
        "  'LLB',\n",
        "  'BBMEDS',\n",
        "  'BSC',\n",
        "  'BSC',\n",
        "  'BSC',\n",
        "  'BCOM',\n",
        "  'BSC',\n",
        "  'BSC',\n",
        "  'BSC',\n",
        "  'GDSCI',\n",
        "  'BSC',\n",
        "  'BSC',\n",
        "  'BCOM',\n",
        "  'BSC',\n",
        "  'BA',\n",
        "  'BSC',\n",
        "  'BCOM',\n",
        "  'BA',\n",
        "  'BCOM',\n",
        "  'BAS',\n",
        "  'BSC',\n",
        "  'BSC',\n",
        "  'BBSC',\n",
        "  'BSC',\n",
        "  'BSC',\n",
        "  'BSC',\n",
        "  'BSC',\n",
        "  'BSC',\n",
        "  'BA',\n",
        "  'BSC',\n",
        "  'BSC',\n",
        "  'BAS',\n",
        "  'BEHONS',\n",
        "  'BSC',\n",
        "  'BBMEDS',\n",
        "  'GDSCI',\n",
        "  'BSC',\n",
        "  'BSC',\n",
        "  'BSC',\n",
        "  'BBMEDS',\n",
        "  'BSC',\n",
        "  'BSC',\n",
        "  'BAHONS',\n",
        "  'LLB',\n",
        "  'BSC',\n",
        "  'BSC',\n",
        "  'BSC',\n",
        "  'BBMEDS',\n",
        "  'BSC',\n",
        "  'BSC',\n",
        "  'BSC',\n",
        "  'BSC',\n",
        "  'BSC',\n",
        "  'BCOM',\n",
        "  'BEHONS',\n",
        "  'BSC',\n",
        "  'BSC',\n",
        "  'BSC',\n",
        "  'BSC',\n",
        "  'BSC',\n",
        "  'BSC',\n",
        "  'BA',\n",
        "  'BSC',\n",
        "  'BSC',\n",
        "  'BSC',\n",
        "  'BSC',\n",
        "  'BSC',\n",
        "  'BCOM',\n",
        "  'BA',\n",
        "  'BSC',\n",
        "  'BEHONS',\n",
        "  'BSC',\n",
        "  'BSC',\n",
        "  'BSC',\n",
        "  'BSC'])"
       ]
      }
     ],
     "prompt_number": 121
    },
    {
     "cell_type": "code",
     "collapsed": false,
     "input": [
      "def paper_major(data):\n",
      "    #includes withdrawn and no-grade students\n",
      "    deg_majors = []\n",
      "    deg_maj_list = []\n",
      "    for row in data[1:]:\n",
      "        deg_maj = str(row[18].strip())+', '+str(row[19].strip())\n",
      "        if not deg_maj in deg_majors:\n",
      "            deg_majors.append(deg_maj)\n",
      "        deg_maj_list.append(deg_maj)\n",
      "\n",
      "    for deg_major in deg_majors:\n",
      "        print deg_major, deg_maj_list.count(deg_major)\n",
      "    return deg_majors, deg_maj_list"
     ],
     "language": "python",
     "metadata": {},
     "outputs": [],
     "prompt_number": 125
    },
    {
     "cell_type": "code",
     "collapsed": false,
     "input": [
      "paper_major(SCIE211_2013)"
     ],
     "language": "python",
     "metadata": {},
     "outputs": [
      {
       "output_type": "stream",
       "stream": "stdout",
       "text": [
        "BSC, COMP 18\n",
        "BBMEDS, HGEN 8\n",
        "BA, PHIL 1\n",
        "BCOM, ECON 2\n",
        "BSC, CRIM 5\n",
        "BSC, BIOL 11\n",
        "BA, HIST 1\n",
        "BBSC, BILD 2\n",
        "BSC, CBIO 2\n",
        "BSC, PSYC 23\n",
        "LLB, LAWS 6\n",
        "BSC, BTEC 9\n",
        "BBMEDS, MOLP 4\n",
        "BSC, MATH 6\n",
        "BEHONS, SWEN 4\n",
        "BCOM, COML 2\n",
        "BA, CRIM 3\n",
        "BBMEDS, MPMC 2\n",
        "BSC, GEOG 7\n",
        "BCOM, INFO 3\n",
        "BA, POLS 1\n",
        "COP, 0000 1\n",
        "BSC, GEOL 4\n",
        "BSC, CHEM 5\n",
        "BSC, PHYS 2\n",
        "BSC, EBIO 11\n",
        "BSC, ENVI 2\n",
        "BSC, FREN 1\n",
        "BA, FREN 1\n",
        "BCOM, MARK 4\n",
        "BSC, DEVE 2\n",
        "BA, PSYC 2\n",
        "BEHONS, ECEN 3\n",
        "BSC, STAT 3\n",
        "BA, CLAS 1\n",
        "BDI, MDDN 1\n",
        "BMUSIC, CMPO 2\n",
        "BCOM, FINA 2\n",
        "BA, INTP 2\n",
        "BSC, BMAR 6\n",
        "GDSCI, GEOL 1\n",
        "BCA/BS, COML 1\n",
        "BCOM, HRIR 1\n",
        "BSC, CLAS 1\n",
        "BBSC, SSEG 1\n",
        "BA, EDPS 1\n",
        "GDSCI, BTEC 1\n",
        "BCOM, ECMM 1\n",
        "BA, DEVE 1\n",
        "BCOM, ACCY 1\n",
        "BA, SPAN 1\n",
        "BAS, ARCH 2\n",
        "BSC, ELCO 3\n",
        "GDSCI, COMP 1\n",
        "BSC, PHIL 1\n",
        "BAHONS, LING 1\n",
        "BSC, EDPS 1\n",
        "BA, ECON 1\n",
        "BSC, GPHS 2\n",
        "BA, ENGS 1\n"
       ]
      },
      {
       "metadata": {},
       "output_type": "pyout",
       "prompt_number": 126,
       "text": [
        "(['BSC, COMP',\n",
        "  'BBMEDS, HGEN',\n",
        "  'BA, PHIL',\n",
        "  'BCOM, ECON',\n",
        "  'BSC, CRIM',\n",
        "  'BSC, BIOL',\n",
        "  'BA, HIST',\n",
        "  'BBSC, BILD',\n",
        "  'BSC, CBIO',\n",
        "  'BSC, PSYC',\n",
        "  'LLB, LAWS',\n",
        "  'BSC, BTEC',\n",
        "  'BBMEDS, MOLP',\n",
        "  'BSC, MATH',\n",
        "  'BEHONS, SWEN',\n",
        "  'BCOM, COML',\n",
        "  'BA, CRIM',\n",
        "  'BBMEDS, MPMC',\n",
        "  'BSC, GEOG',\n",
        "  'BCOM, INFO',\n",
        "  'BA, POLS',\n",
        "  'COP, 0000',\n",
        "  'BSC, GEOL',\n",
        "  'BSC, CHEM',\n",
        "  'BSC, PHYS',\n",
        "  'BSC, EBIO',\n",
        "  'BSC, ENVI',\n",
        "  'BSC, FREN',\n",
        "  'BA, FREN',\n",
        "  'BCOM, MARK',\n",
        "  'BSC, DEVE',\n",
        "  'BA, PSYC',\n",
        "  'BEHONS, ECEN',\n",
        "  'BSC, STAT',\n",
        "  'BA, CLAS',\n",
        "  'BDI, MDDN',\n",
        "  'BMUSIC, CMPO',\n",
        "  'BCOM, FINA',\n",
        "  'BA, INTP',\n",
        "  'BSC, BMAR',\n",
        "  'GDSCI, GEOL',\n",
        "  'BCA/BS, COML',\n",
        "  'BCOM, HRIR',\n",
        "  'BSC, CLAS',\n",
        "  'BBSC, SSEG',\n",
        "  'BA, EDPS',\n",
        "  'GDSCI, BTEC',\n",
        "  'BCOM, ECMM',\n",
        "  'BA, DEVE',\n",
        "  'BCOM, ACCY',\n",
        "  'BA, SPAN',\n",
        "  'BAS, ARCH',\n",
        "  'BSC, ELCO',\n",
        "  'GDSCI, COMP',\n",
        "  'BSC, PHIL',\n",
        "  'BAHONS, LING',\n",
        "  'BSC, EDPS',\n",
        "  'BA, ECON',\n",
        "  'BSC, GPHS',\n",
        "  'BA, ENGS'],\n",
        " ['BSC, COMP',\n",
        "  'BBMEDS, HGEN',\n",
        "  'BA, PHIL',\n",
        "  'BCOM, ECON',\n",
        "  'BSC, CRIM',\n",
        "  'BSC, BIOL',\n",
        "  'BBMEDS, HGEN',\n",
        "  'BA, HIST',\n",
        "  'BBSC, BILD',\n",
        "  'BSC, CBIO',\n",
        "  'BSC, COMP',\n",
        "  'BSC, PSYC',\n",
        "  'LLB, LAWS',\n",
        "  'BSC, COMP',\n",
        "  'BSC, BTEC',\n",
        "  'BBMEDS, MOLP',\n",
        "  'BSC, MATH',\n",
        "  'BSC, MATH',\n",
        "  'BEHONS, SWEN',\n",
        "  'BBMEDS, MOLP',\n",
        "  'BSC, PSYC',\n",
        "  'BSC, PSYC',\n",
        "  'BCOM, COML',\n",
        "  'BA, CRIM',\n",
        "  'BBMEDS, MPMC',\n",
        "  'BSC, BIOL',\n",
        "  'BSC, PSYC',\n",
        "  'BSC, GEOG',\n",
        "  'BCOM, INFO',\n",
        "  'BSC, PSYC',\n",
        "  'BSC, CRIM',\n",
        "  'BA, POLS',\n",
        "  'COP, 0000',\n",
        "  'BCOM, INFO',\n",
        "  'BSC, GEOG',\n",
        "  'BSC, GEOL',\n",
        "  'BSC, CRIM',\n",
        "  'LLB, LAWS',\n",
        "  'BSC, PSYC',\n",
        "  'BSC, CHEM',\n",
        "  'BSC, PHYS',\n",
        "  'BSC, BIOL',\n",
        "  'BSC, BIOL',\n",
        "  'BSC, BTEC',\n",
        "  'BSC, PSYC',\n",
        "  'BSC, EBIO',\n",
        "  'BSC, EBIO',\n",
        "  'BSC, BIOL',\n",
        "  'BSC, CRIM',\n",
        "  'BSC, ENVI',\n",
        "  'BSC, FREN',\n",
        "  'BA, FREN',\n",
        "  'BSC, PSYC',\n",
        "  'BEHONS, SWEN',\n",
        "  'BSC, CHEM',\n",
        "  'BSC, PSYC',\n",
        "  'BCOM, MARK',\n",
        "  'BSC, DEVE',\n",
        "  'BSC, COMP',\n",
        "  'BSC, PSYC',\n",
        "  'BSC, BIOL',\n",
        "  'BCOM, INFO',\n",
        "  'BSC, DEVE',\n",
        "  'BSC, CHEM',\n",
        "  'BSC, GEOG',\n",
        "  'BSC, COMP',\n",
        "  'BA, PSYC',\n",
        "  'BBMEDS, HGEN',\n",
        "  'BEHONS, ECEN',\n",
        "  'BA, PSYC',\n",
        "  'LLB, LAWS',\n",
        "  'BSC, PSYC',\n",
        "  'BBMEDS, HGEN',\n",
        "  'BBMEDS, HGEN',\n",
        "  'BBMEDS, HGEN',\n",
        "  'BSC, COMP',\n",
        "  'BA, CRIM',\n",
        "  'BSC, STAT',\n",
        "  'BSC, PSYC',\n",
        "  'BSC, COMP',\n",
        "  'BA, CLAS',\n",
        "  'BSC, COMP',\n",
        "  'LLB, LAWS',\n",
        "  'BCOM, MARK',\n",
        "  'BDI, MDDN',\n",
        "  'BSC, COMP',\n",
        "  'BSC, PSYC',\n",
        "  'BMUSIC, CMPO',\n",
        "  'BSC, GEOG',\n",
        "  'BSC, BTEC',\n",
        "  'BSC, BIOL',\n",
        "  'BCOM, FINA',\n",
        "  'BSC, GEOG',\n",
        "  'BSC, BTEC',\n",
        "  'BA, INTP',\n",
        "  'BSC, BMAR',\n",
        "  'GDSCI, GEOL',\n",
        "  'BSC, EBIO',\n",
        "  'BA, INTP',\n",
        "  'BSC, PSYC',\n",
        "  'BSC, EBIO',\n",
        "  'BCA/BS, COML',\n",
        "  'BSC, PSYC',\n",
        "  'BSC, CHEM',\n",
        "  'BSC, GEOG',\n",
        "  'BSC, COMP',\n",
        "  'BCOM, HRIR',\n",
        "  'BSC, STAT',\n",
        "  'BSC, CRIM',\n",
        "  'BSC, CLAS',\n",
        "  'BBSC, SSEG',\n",
        "  'BA, EDPS',\n",
        "  'BSC, PSYC',\n",
        "  'BCOM, ECON',\n",
        "  'BSC, PSYC',\n",
        "  'BSC, COMP',\n",
        "  'BSC, EBIO',\n",
        "  'BEHONS, ECEN',\n",
        "  'BMUSIC, CMPO',\n",
        "  'BSC, COMP',\n",
        "  'BBMEDS, HGEN',\n",
        "  'BSC, BMAR',\n",
        "  'BSC, MATH',\n",
        "  'BSC, GEOL',\n",
        "  'LLB, LAWS',\n",
        "  'BBMEDS, MPMC',\n",
        "  'BSC, CHEM',\n",
        "  'BSC, PHYS',\n",
        "  'BSC, COMP',\n",
        "  'BCOM, COML',\n",
        "  'BSC, BTEC',\n",
        "  'BSC, BTEC',\n",
        "  'BSC, MATH',\n",
        "  'GDSCI, BTEC',\n",
        "  'BSC, BMAR',\n",
        "  'BSC, BIOL',\n",
        "  'BCOM, ECMM',\n",
        "  'BSC, EBIO',\n",
        "  'BA, DEVE',\n",
        "  'BSC, ENVI',\n",
        "  'BCOM, ACCY',\n",
        "  'BA, SPAN',\n",
        "  'BCOM, FINA',\n",
        "  'BAS, ARCH',\n",
        "  'BSC, MATH',\n",
        "  'BSC, BTEC',\n",
        "  'BBSC, BILD',\n",
        "  'BSC, MATH',\n",
        "  'BSC, COMP',\n",
        "  'BSC, EBIO',\n",
        "  'BSC, BIOL',\n",
        "  'BSC, BMAR',\n",
        "  'BA, CRIM',\n",
        "  'BSC, CBIO',\n",
        "  'BSC, EBIO',\n",
        "  'BAS, ARCH',\n",
        "  'BEHONS, SWEN',\n",
        "  'BSC, ELCO',\n",
        "  'BBMEDS, MOLP',\n",
        "  'GDSCI, COMP',\n",
        "  'BSC, PHIL',\n",
        "  'BSC, BIOL',\n",
        "  'BSC, COMP',\n",
        "  'BBMEDS, MOLP',\n",
        "  'BSC, EBIO',\n",
        "  'BSC, BMAR',\n",
        "  'BAHONS, LING',\n",
        "  'LLB, LAWS',\n",
        "  'BSC, PSYC',\n",
        "  'BSC, COMP',\n",
        "  'BSC, PSYC',\n",
        "  'BBMEDS, HGEN',\n",
        "  'BSC, COMP',\n",
        "  'BSC, PSYC',\n",
        "  'BSC, GEOL',\n",
        "  'BSC, EDPS',\n",
        "  'BSC, COMP',\n",
        "  'BCOM, MARK',\n",
        "  'BEHONS, SWEN',\n",
        "  'BSC, BTEC',\n",
        "  'BSC, ELCO',\n",
        "  'BSC, GEOL',\n",
        "  'BSC, ELCO',\n",
        "  'BSC, BMAR',\n",
        "  'BSC, BTEC',\n",
        "  'BA, ECON',\n",
        "  'BSC, BIOL',\n",
        "  'BSC, PSYC',\n",
        "  'BSC, EBIO',\n",
        "  'BSC, GPHS',\n",
        "  'BSC, GPHS',\n",
        "  'BCOM, MARK',\n",
        "  'BA, ENGS',\n",
        "  'BSC, PSYC',\n",
        "  'BEHONS, ECEN',\n",
        "  'BSC, GEOG',\n",
        "  'BSC, PSYC',\n",
        "  'BSC, STAT',\n",
        "  'BSC, EBIO'])"
       ]
      }
     ],
     "prompt_number": 126
    },
    {
     "cell_type": "heading",
     "level": 1,
     "metadata": {},
     "source": [
      "Prior to 2013 there was a paper known as SCIE201 with similar goals. "
     ]
    },
    {
     "cell_type": "code",
     "collapsed": false,
     "input": [
      "%%bash\n",
      "ls SR_data/"
     ],
     "language": "python",
     "metadata": {},
     "outputs": [
      {
       "output_type": "stream",
       "stream": "stdout",
       "text": [
        "201101_SCIE_201_27Jan2015.csv\n",
        "201201_SCIE_201_27Jan2015.csv\n",
        "201301_SCIE_211_27Jan2015.csv\n",
        "201401_SCIE_211_27Jan2015.csv\n",
        "201501_SCIE_211_27Jan2015.csv\n"
       ]
      }
     ],
     "prompt_number": 36
    },
    {
     "cell_type": "code",
     "collapsed": false,
     "input": [
      "SCIE201_2012 = loadin('SR_data/201201_SCIE_201_27Jan2015.csv')\n",
      "SCIE201_2011 = loadin('SR_data/201101_SCIE_201_27Jan2015.csv')\n",
      "#SCIE201_2010 = loadin('SR_data/201001_SCIE_201_27Jan2015.csv') - these are different papers\n",
      "#SCIE201_2009 = loadin('SR_data/200901_SCIE_201_27Jan2015.csv') - these are different papers"
     ],
     "language": "python",
     "metadata": {},
     "outputs": [],
     "prompt_number": 37
    },
    {
     "cell_type": "heading",
     "level": 1,
     "metadata": {},
     "source": [
      "SCIE201 2012"
     ]
    },
    {
     "cell_type": "code",
     "collapsed": false,
     "input": [
      "paper_hist(SCIE201_2012)"
     ],
     "language": "python",
     "metadata": {},
     "outputs": [
      {
       "output_type": "stream",
       "stream": "stdout",
       "text": [
        "skip \n",
        "skip \n",
        "skip WD\n",
        "skip \n",
        "skip WD\n",
        "skip \n",
        "skip \n",
        "skip \n",
        "skip \n",
        "skip WD\n",
        "\n",
        "Excluded: 10\n",
        "\n",
        "A+"
       ]
      },
      {
       "output_type": "stream",
       "stream": "stdout",
       "text": [
        " 12\n",
        "A 10\n",
        "A- 26\n",
        "B+ 18\n",
        "B 12\n",
        "B- 9\n",
        "C+ 14\n",
        "C 5\n",
        "C- 0\n",
        "D 0\n",
        "E 7\n",
        "K 0\n",
        "\n",
        "Passed: 106\n",
        "Failed: 7\n"
       ]
      },
      {
       "metadata": {},
       "output_type": "display_data",
       "png": "[encoded data removed]",
       "text": [
        "<matplotlib.figure.Figure at 0x7fe705da4c10>"
       ]
      }
     ],
     "prompt_number": 38
    },
    {
     "cell_type": "code",
     "collapsed": false,
     "input": [
      "paper_enrolments(SCIE201_2012)\n",
      "print\n",
      "paper_enrolment_status(SCIE201_2012)\n",
      "print\n",
      "gender_fees(SCIE201_2012)\n",
      "paper_ethnicities(SCIE201_2012)"
     ],
     "language": "python",
     "metadata": {},
     "outputs": [
      {
       "output_type": "stream",
       "stream": "stdout",
       "text": [
        "Enrolled: 113 (Excluding withdrawn)\n",
        "Withdrawn: 3\n",
        "Excluded: 7 (No grade data)\n",
        "\n",
        "DE 1\n",
        "RE 113\n",
        "DD 5\n",
        "DN 3\n",
        "PC 1\n",
        "\n",
        "Male :69\n",
        "Female :54\n",
        "\n",
        "Domestic :102\n",
        "International :21\n",
        "\n",
        "Other Asian 8\n",
        "Middle Eastern 5\n",
        "New Zealand European/Pakeha 63\n",
        "New Zealand Maori 12\n",
        "Australian 3\n",
        "Chinese 6\n",
        "Indian 3\n",
        "British/Irish 5\n",
        "Sri Lankan 1\n",
        "Other European 8\n",
        "Other Southeast Asian 4\n",
        "Other 3\n",
        "Fijian 1\n",
        "Samoan 1\n"
       ]
      }
     ],
     "prompt_number": 39
    },
    {
     "cell_type": "heading",
     "level": 1,
     "metadata": {},
     "source": [
      "SCIE201 2011"
     ]
    },
    {
     "cell_type": "code",
     "collapsed": false,
     "input": [
      "paper_hist(SCIE201_2011)"
     ],
     "language": "python",
     "metadata": {},
     "outputs": [
      {
       "output_type": "stream",
       "stream": "stdout",
       "text": [
        "skip \n",
        "skip \n",
        "skip WD\n",
        "skip WD\n",
        "skip U\n",
        "skip WD\n",
        "\n",
        "Excluded: 6\n",
        "\n",
        "A+"
       ]
      },
      {
       "output_type": "stream",
       "stream": "stdout",
       "text": [
        " 3\n",
        "A 8\n",
        "A- 10\n",
        "B+ 4\n",
        "B 2\n",
        "B- 2\n",
        "C+ 3\n",
        "C 2\n",
        "C- 0\n",
        "D 0\n",
        "E 2\n",
        "K 0\n",
        "\n",
        "Passed: 34\n",
        "Failed: 2\n"
       ]
      },
      {
       "metadata": {},
       "output_type": "display_data",
       "png": "[encoded data removed]",
       "text": [
        "<matplotlib.figure.Figure at 0x7fe705d2f950>"
       ]
      }
     ],
     "prompt_number": 40
    },
    {
     "cell_type": "code",
     "collapsed": false,
     "input": [
      "paper_enrolments(SCIE201_2011)\n",
      "print\n",
      "paper_enrolment_status(SCIE201_2011)\n",
      "print\n",
      "gender_fees(SCIE201_2011)\n",
      "paper_ethnicities(SCIE201_2011)"
     ],
     "language": "python",
     "metadata": {},
     "outputs": [
      {
       "output_type": "stream",
       "stream": "stdout",
       "text": [
        "Enrolled: 36 (Excluding withdrawn)\n",
        "Withdrawn: 3\n",
        "Excluded: 3 (No grade data)\n",
        "\n",
        "DE 2\n",
        "RE 28\n",
        "DN 3\n",
        "RW 8\n",
        "DS 1\n",
        "\n",
        "Male :18\n",
        "Female :24\n",
        "\n",
        "Domestic :40\n",
        "International :2\n",
        "\n",
        "Other Asian 2\n",
        "New Zealand Maori 5\n",
        "New Zealand European/Pakeha 20\n",
        "British/Irish 5\n",
        "Chinese 3\n",
        "Other European 1\n",
        "Latin American 1\n",
        "Samoan 2\n",
        "African 1\n",
        "Indian 1\n",
        "Other Southeast Asian 1\n"
       ]
      }
     ],
     "prompt_number": 41
    },
    {
     "cell_type": "heading",
     "level": 1,
     "metadata": {},
     "source": [
      "Summarising Data into Table form"
     ]
    },
    {
     "cell_type": "code",
     "collapsed": false,
     "input": [
      "def make_html_table(header, data):\n",
      "        html = [\"<table>\"]\n",
      "        html.append(\"<tr>\")\n",
      "        for item in header:\n",
      "            html.append('<th>%s</th>' % item)\n",
      "        html.append(\"</tr>\")\n",
      "        \n",
      "        \n",
      "        for row in data:\n",
      "            html.append(\"<tr>\")\n",
      "            for col in row:\n",
      "                html.append('<td>%s</td>' % col)\n",
      "            html.append(\"</tr>\")\n",
      "        \n",
      "        html.append(\"</table>\")\n",
      "        return ''.join(html)"
     ],
     "language": "python",
     "metadata": {},
     "outputs": [],
     "prompt_number": 51
    },
    {
     "cell_type": "code",
     "collapsed": false,
     "input": [
      "from IPython.display import HTML\n",
      "t = make_html_table(['one', 'two', 'three'], [['tim', 'tom','charles' ],['a', 'b', 'c']])\n",
      "HTML(t)"
     ],
     "language": "python",
     "metadata": {},
     "outputs": [
      {
       "html": [
        "<table><tr><th>one</th><th>two</th><th>three</th></tr><tr><td>tim</td><td>tom</td><td>charles</td></tr><tr><td>a</td><td>b</td><td>c</td></tr></table>"
       ],
       "metadata": {},
       "output_type": "pyout",
       "prompt_number": 52,
       "text": [
        "<IPython.core.display.HTML at 0x7fe70dde0210>"
       ]
      }
     ],
     "prompt_number": 52
    },
    {
     "cell_type": "code",
     "collapsed": false,
     "input": [
      "def tab_data_gen():\n",
      "    #['Year', 'Paper', 'Enrolments', 'Withdrawn', 'Pass', 'Fail', 'Domestic', 'International', 'Male', 'Female', 'Excluded']\n",
      "    out = []\n",
      "    for paper in [SCIE201_2011, SCIE201_2012, SCIE211_2013, SCIE211_2014]:\n",
      "        enrol, wd, exclu = paper_enrolments(paper)\n",
      "        ps, fl = pf(paper)\n",
      "        dom, intl, M, F = gender_fees(paper)\n",
      "        row = [paper[1][0][:-2],'SCIE'+str(paper[1][3]), enrol, wd, ps, fl, dom, intl, M, F, exclu]\n",
      "        out.append(row)\n",
      "    return out"
     ],
     "language": "python",
     "metadata": {},
     "outputs": [],
     "prompt_number": 79
    },
    {
     "cell_type": "code",
     "collapsed": false,
     "input": [
      "table_input = tab_data_gen()\n",
      "t = make_html_table(['Year', 'Paper', 'Enrolments', 'Withdrawn', 'Pass', 'Fail', 'Domestic', 'International', 'Male', 'Female', 'Excluded (no grade data)'], table_input)\n"
     ],
     "language": "python",
     "metadata": {},
     "outputs": [
      {
       "output_type": "stream",
       "stream": "stdout",
       "text": [
        "Enrolled: 36 (Excluding withdrawn)\n",
        "Withdrawn: 3\n",
        "Excluded: 3 (No grade data)\n",
        "skip \n",
        "skip \n",
        "skip WD\n",
        "skip WD\n",
        "skip U\n",
        "skip WD\n",
        "\n",
        "Excluded: 6\n",
        "\n",
        "A+ 3\n",
        "A 8\n",
        "A- 10\n",
        "B+ 4\n",
        "B 2\n",
        "B- 2\n",
        "C+ 3\n",
        "C 2\n",
        "C- 0\n",
        "D 0\n",
        "E 2\n",
        "K 0\n",
        "\n",
        "Passed: 34\n",
        "Failed: 2\n",
        "Male :17\n",
        "Female :19\n",
        "\n",
        "Domestic :35\n",
        "International :1\n",
        "\n",
        "(Doesnt include the following)\n",
        "Withdrawn: 3\n",
        "Excluded: 3 (No grade data)\n",
        "Enrolled: 113 (Excluding withdrawn)\n",
        "Withdrawn: 3\n",
        "Excluded: 7 (No grade data)\n",
        "skip \n",
        "skip \n",
        "skip WD\n",
        "skip \n",
        "skip WD\n",
        "skip \n",
        "skip \n",
        "skip \n",
        "skip \n",
        "skip WD\n",
        "\n",
        "Excluded: 10\n",
        "\n",
        "A+ 12\n",
        "A 10\n",
        "A- 26\n",
        "B+ 18\n",
        "B 12\n",
        "B- 9\n",
        "C+ 14\n",
        "C 5\n",
        "C- 0\n",
        "D 0\n",
        "E 7\n",
        "K 0\n",
        "\n",
        "Passed: 106\n",
        "Failed: 7\n",
        "Male :64\n",
        "Female :49\n",
        "\n",
        "Domestic :93\n",
        "International :20\n",
        "\n",
        "(Doesnt include the following)\n",
        "Withdrawn: 3\n",
        "Excluded: 7 (No grade data)\n",
        "Enrolled: 179 (Excluding withdrawn)\n",
        "Withdrawn: 6\n",
        "Excluded: 14 (No grade data)\n",
        "skip \n",
        "skip \n",
        "skip \n",
        "skip WD\n",
        "skip \n",
        "skip WD\n",
        "skip WD\n",
        "skip WD\n",
        "skip \n",
        "skip \n",
        "skip \n",
        "skip \n",
        "skip \n",
        "skip WD\n",
        "skip \n",
        "skip \n",
        "skip U\n",
        "skip \n",
        "skip \n",
        "skip WD\n",
        "\n",
        "Excluded: 20\n",
        "\n",
        "A+ 17\n",
        "A 16\n",
        "A- 25\n",
        "B+ 28\n",
        "B 27\n",
        "B- 19\n",
        "C+ 3\n",
        "C 5\n",
        "C- 0\n",
        "D 7\n",
        "E 32\n",
        "K 0\n",
        "\n",
        "Passed: 140\n",
        "Failed: 39\n",
        "Male :94\n",
        "Female :85\n",
        "\n",
        "Domestic :165\n",
        "International :14\n",
        "\n",
        "(Doesnt include the following)\n",
        "Withdrawn: 6\n",
        "Excluded: 14 (No grade data)\n",
        "Enrolled: 0 (Excluding withdrawn)\n",
        "Withdrawn: 2\n",
        "Excluded: 222 (No grade data)\n",
        "skip \n",
        "skip \n",
        "skip \n",
        "skip \n",
        "skip \n",
        "skip \n",
        "skip \n",
        "skip \n",
        "skip \n",
        "skip \n",
        "skip \n",
        "skip \n",
        "skip \n",
        "skip \n",
        "skip \n",
        "skip \n",
        "skip \n",
        "skip \n",
        "skip \n",
        "skip \n",
        "skip \n",
        "skip \n",
        "skip \n",
        "skip \n",
        "skip \n",
        "skip \n",
        "skip \n",
        "skip \n",
        "skip \n",
        "skip \n",
        "skip \n",
        "skip \n",
        "skip \n",
        "skip \n",
        "skip \n",
        "skip \n",
        "skip \n",
        "skip \n",
        "skip \n",
        "skip \n",
        "skip \n",
        "skip \n",
        "skip \n",
        "skip WD\n",
        "skip \n",
        "skip \n",
        "skip \n",
        "skip \n",
        "skip \n",
        "skip \n",
        "skip \n",
        "skip \n",
        "skip \n",
        "skip \n",
        "skip \n",
        "skip \n",
        "skip \n",
        "skip \n",
        "skip \n",
        "skip \n",
        "skip \n",
        "skip \n",
        "skip \n",
        "skip \n",
        "skip \n",
        "skip \n",
        "skip \n",
        "skip \n",
        "skip \n",
        "skip \n",
        "skip \n",
        "skip \n",
        "skip \n",
        "skip \n",
        "skip \n",
        "skip \n",
        "skip \n",
        "skip \n",
        "skip \n",
        "skip \n",
        "skip \n",
        "skip \n",
        "skip \n",
        "skip \n",
        "skip \n",
        "skip \n",
        "skip \n",
        "skip \n",
        "skip \n",
        "skip \n",
        "skip \n",
        "skip \n",
        "skip \n",
        "skip \n",
        "skip \n",
        "skip \n",
        "skip \n",
        "skip \n",
        "skip \n",
        "skip \n",
        "skip \n",
        "skip \n",
        "skip \n",
        "skip \n",
        "skip \n",
        "skip \n",
        "skip \n",
        "skip \n",
        "skip \n",
        "skip \n",
        "skip \n",
        "skip \n",
        "skip \n",
        "skip \n",
        "skip \n",
        "skip \n",
        "skip \n",
        "skip \n",
        "skip \n",
        "skip \n",
        "skip \n",
        "skip \n",
        "skip \n",
        "skip \n",
        "skip \n",
        "skip \n",
        "skip \n",
        "skip \n",
        "skip \n",
        "skip \n",
        "skip \n",
        "skip \n",
        "skip \n",
        "skip \n",
        "skip \n",
        "skip \n",
        "skip \n",
        "skip \n",
        "skip \n",
        "skip \n",
        "skip \n",
        "skip \n",
        "skip \n",
        "skip \n",
        "skip \n",
        "skip \n",
        "skip \n",
        "skip \n",
        "skip \n",
        "skip \n",
        "skip \n",
        "skip \n",
        "skip \n",
        "skip \n",
        "skip \n",
        "skip \n",
        "skip \n",
        "skip \n",
        "skip \n",
        "skip \n",
        "skip \n",
        "skip \n",
        "skip \n",
        "skip \n",
        "skip \n",
        "skip \n",
        "skip \n",
        "skip \n",
        "skip \n",
        "skip \n",
        "skip \n",
        "skip \n",
        "skip \n",
        "skip \n",
        "skip \n",
        "skip \n",
        "skip \n",
        "skip \n",
        "skip \n",
        "skip \n",
        "skip \n",
        "skip \n",
        "skip WD\n",
        "skip \n",
        "skip \n",
        "skip \n",
        "skip \n",
        "skip \n",
        "skip \n",
        "skip \n",
        "skip \n",
        "skip \n",
        "skip \n",
        "skip \n",
        "skip \n",
        "skip \n",
        "skip \n",
        "skip \n",
        "skip \n",
        "skip \n",
        "skip \n",
        "skip \n",
        "skip \n",
        "skip \n",
        "skip \n",
        "skip \n",
        "skip \n",
        "skip \n",
        "skip \n",
        "skip \n",
        "skip \n",
        "skip \n",
        "skip \n",
        "skip \n",
        "skip \n",
        "skip \n",
        "skip \n",
        "skip \n",
        "skip \n",
        "skip \n",
        "skip \n",
        "skip \n",
        "skip \n",
        "skip \n",
        "\n",
        "Excluded: 224\n",
        "\n",
        "A+ 0\n",
        "A 0\n",
        "A- 0\n",
        "B+ 0\n",
        "B 0\n",
        "B- 0\n",
        "C+ 0\n",
        "C 0\n",
        "C- 0\n",
        "D 0\n",
        "E 0\n",
        "K 0\n",
        "\n",
        "Passed: 0\n",
        "Failed: 0\n",
        "Male :0\n",
        "Female :0\n",
        "\n",
        "Domestic :0\n",
        "International :0\n",
        "\n",
        "(Doesnt include the following)\n",
        "Withdrawn: 2\n",
        "Excluded: 222 (No grade data)\n"
       ]
      }
     ],
     "prompt_number": 80
    },
    {
     "cell_type": "code",
     "collapsed": false,
     "input": [
      "print t"
     ],
     "language": "python",
     "metadata": {},
     "outputs": [
      {
       "output_type": "stream",
       "stream": "stdout",
       "text": [
        "<table><tr><th>Year</th><th>Paper</th><th>Enrolments</th><th>Withdrawn</th><th>Pass</th><th>Fail</th><th>Domestic</th><th>International</th><th>Male</th><th>Female</th><th>Excluded (no grade data)</th></tr><tr><td>2011</td><td>SCIE201</td><td>36</td><td>3</td><td>34</td><td>2</td><td>35</td><td>1</td><td>17</td><td>19</td><td>3</td></tr><tr><td>2012</td><td>SCIE201</td><td>113</td><td>3</td><td>106</td><td>7</td><td>93</td><td>20</td><td>64</td><td>49</td><td>7</td></tr><tr><td>2013</td><td>SCIE211</td><td>179</td><td>6</td><td>140</td><td>39</td><td>165</td><td>14</td><td>94</td><td>85</td><td>14</td></tr><tr><td>2014</td><td>SCIE211</td><td>0</td><td>2</td><td>0</td><td>0</td><td>0</td><td>0</td><td>0</td><td>0</td><td>222</td></tr></table>\n"
       ]
      }
     ],
     "prompt_number": 146
    },
    {
     "cell_type": "code",
     "collapsed": false,
     "input": [
      "HTML(t)"
     ],
     "language": "python",
     "metadata": {},
     "outputs": [
      {
       "html": [
        "<table><tr><th>Year</th><th>Paper</th><th>Enrolments</th><th>Withdrawn</th><th>Pass</th><th>Fail</th><th>Domestic</th><th>International</th><th>Male</th><th>Female</th><th>Excluded (no grade data)</th></tr><tr><td>2011</td><td>SCIE201</td><td>36</td><td>3</td><td>34</td><td>2</td><td>35</td><td>1</td><td>17</td><td>19</td><td>3</td></tr><tr><td>2012</td><td>SCIE201</td><td>113</td><td>3</td><td>106</td><td>7</td><td>93</td><td>20</td><td>64</td><td>49</td><td>7</td></tr><tr><td>2013</td><td>SCIE211</td><td>179</td><td>6</td><td>140</td><td>39</td><td>165</td><td>14</td><td>94</td><td>85</td><td>14</td></tr><tr><td>2014</td><td>SCIE211</td><td>0</td><td>2</td><td>0</td><td>0</td><td>0</td><td>0</td><td>0</td><td>0</td><td>222</td></tr></table>"
       ],
       "metadata": {},
       "output_type": "pyout",
       "prompt_number": 81,
       "text": [
        "<IPython.core.display.HTML at 0x7fe705de6310>"
       ]
      }
     ],
     "prompt_number": 81
    },
    {
     "cell_type": "heading",
     "level": 1,
     "metadata": {},
     "source": [
      "Plotting Enrolments per Year, overlaid with pass rate"
     ]
    },
    {
     "cell_type": "code",
     "collapsed": false,
     "input": [
      "plot_data = [[],[]]\n",
      "for paper in [SCIE201_2011, SCIE201_2012, SCIE211_2013, SCIE211_2014]:\n",
      "    enrol, wd, exclu = paper_enrolments(paper)\n",
      "    ps, fl = pf(paper)\n",
      "    plot_data[0].append(enrol)\n",
      "    plot_data[1].append(ps)"
     ],
     "language": "python",
     "metadata": {},
     "outputs": [
      {
       "output_type": "stream",
       "stream": "stdout",
       "text": [
        "Enrolled: 36 (Excluding withdrawn)\n",
        "Withdrawn: 3\n",
        "Excluded: 3 (No grade data)\n",
        "skip \n",
        "skip \n",
        "skip WD\n",
        "skip WD\n",
        "skip U\n",
        "skip WD\n",
        "\n",
        "Excluded: 6\n",
        "\n",
        "A+ 3\n",
        "A 8\n",
        "A- 10\n",
        "B+ 4\n",
        "B 2\n",
        "B- 2\n",
        "C+ 3\n",
        "C 2\n",
        "C- 0\n",
        "D 0\n",
        "E 2\n",
        "K 0\n",
        "\n",
        "Passed: 34\n",
        "Failed: 2\n",
        "Enrolled: 113 (Excluding withdrawn)\n",
        "Withdrawn: 3\n",
        "Excluded: 7 (No grade data)\n",
        "skip \n",
        "skip \n",
        "skip WD\n",
        "skip \n",
        "skip WD\n",
        "skip \n",
        "skip \n",
        "skip \n",
        "skip \n",
        "skip WD\n",
        "\n",
        "Excluded: 10\n",
        "\n",
        "A+ 12\n",
        "A 10\n",
        "A- 26\n",
        "B+ 18\n",
        "B 12\n",
        "B- 9\n",
        "C+ 14\n",
        "C 5\n",
        "C- 0\n",
        "D 0\n",
        "E 7\n",
        "K 0\n",
        "\n",
        "Passed: 106\n",
        "Failed: 7\n",
        "Enrolled: 179 (Excluding withdrawn)\n",
        "Withdrawn: 6\n",
        "Excluded: 14 (No grade data)\n",
        "skip \n",
        "skip \n",
        "skip \n",
        "skip WD\n",
        "skip \n",
        "skip WD\n",
        "skip WD\n",
        "skip WD\n",
        "skip \n",
        "skip \n",
        "skip \n",
        "skip \n",
        "skip \n",
        "skip WD\n",
        "skip \n",
        "skip \n",
        "skip U\n",
        "skip \n",
        "skip \n",
        "skip WD\n",
        "\n",
        "Excluded: 20\n",
        "\n",
        "A+ 17\n",
        "A 16\n",
        "A- 25\n",
        "B+ 28\n",
        "B 27\n",
        "B- 19\n",
        "C+ 3\n",
        "C 5\n",
        "C- 0\n",
        "D 7\n",
        "E 32\n",
        "K 0\n",
        "\n",
        "Passed: 140\n",
        "Failed: 39\n",
        "Enrolled: 0 (Excluding withdrawn)\n",
        "Withdrawn: 2\n",
        "Excluded: 222 (No grade data)\n",
        "skip \n",
        "skip \n",
        "skip \n",
        "skip \n",
        "skip \n",
        "skip \n",
        "skip \n",
        "skip \n",
        "skip \n",
        "skip \n",
        "skip \n",
        "skip \n",
        "skip \n",
        "skip \n",
        "skip \n",
        "skip \n",
        "skip \n",
        "skip \n",
        "skip \n",
        "skip \n",
        "skip \n",
        "skip \n",
        "skip \n",
        "skip \n",
        "skip \n",
        "skip \n",
        "skip \n",
        "skip \n",
        "skip \n",
        "skip \n",
        "skip \n",
        "skip \n",
        "skip \n",
        "skip \n",
        "skip \n",
        "skip \n",
        "skip \n",
        "skip \n",
        "skip \n",
        "skip \n",
        "skip \n",
        "skip \n",
        "skip \n",
        "skip WD\n",
        "skip \n",
        "skip \n",
        "skip \n",
        "skip \n",
        "skip \n",
        "skip \n",
        "skip \n",
        "skip \n",
        "skip \n",
        "skip \n",
        "skip \n",
        "skip \n",
        "skip \n",
        "skip \n",
        "skip \n",
        "skip \n",
        "skip \n",
        "skip \n",
        "skip \n",
        "skip \n",
        "skip \n",
        "skip \n",
        "skip \n",
        "skip \n",
        "skip \n",
        "skip \n",
        "skip \n",
        "skip \n",
        "skip \n",
        "skip \n",
        "skip \n",
        "skip \n",
        "skip \n",
        "skip \n",
        "skip \n",
        "skip \n",
        "skip \n",
        "skip \n",
        "skip \n",
        "skip \n",
        "skip \n",
        "skip \n",
        "skip \n",
        "skip \n",
        "skip \n",
        "skip \n",
        "skip \n",
        "skip \n",
        "skip \n",
        "skip \n",
        "skip \n",
        "skip \n",
        "skip \n",
        "skip \n",
        "skip \n",
        "skip \n",
        "skip \n",
        "skip \n",
        "skip \n",
        "skip \n",
        "skip \n",
        "skip \n",
        "skip \n",
        "skip \n",
        "skip \n",
        "skip \n",
        "skip \n",
        "skip \n",
        "skip \n",
        "skip \n",
        "skip \n",
        "skip \n",
        "skip \n",
        "skip \n",
        "skip \n",
        "skip \n",
        "skip \n",
        "skip \n",
        "skip \n",
        "skip \n",
        "skip \n",
        "skip \n",
        "skip \n",
        "skip \n",
        "skip \n",
        "skip \n",
        "skip \n",
        "skip \n",
        "skip \n",
        "skip \n",
        "skip \n",
        "skip \n",
        "skip \n",
        "skip \n",
        "skip \n",
        "skip \n",
        "skip \n",
        "skip \n",
        "skip \n",
        "skip \n",
        "skip \n",
        "skip \n",
        "skip \n",
        "skip \n",
        "skip \n",
        "skip \n",
        "skip \n",
        "skip \n",
        "skip \n",
        "skip \n",
        "skip \n",
        "skip \n",
        "skip \n",
        "skip \n",
        "skip \n",
        "skip \n",
        "skip \n",
        "skip \n",
        "skip \n",
        "skip \n",
        "skip \n",
        "skip \n",
        "skip \n",
        "skip \n",
        "skip \n",
        "skip \n",
        "skip \n",
        "skip \n",
        "skip \n",
        "skip \n",
        "skip \n",
        "skip \n",
        "skip \n",
        "skip \n",
        "skip \n",
        "skip \n",
        "skip \n",
        "skip \n",
        "skip WD\n",
        "skip \n",
        "skip \n",
        "skip \n",
        "skip \n",
        "skip \n",
        "skip \n",
        "skip \n",
        "skip \n",
        "skip \n",
        "skip \n",
        "skip \n",
        "skip \n",
        "skip \n",
        "skip \n",
        "skip \n",
        "skip \n",
        "skip \n",
        "skip \n",
        "skip \n",
        "skip \n",
        "skip \n",
        "skip \n",
        "skip \n",
        "skip \n",
        "skip \n",
        "skip \n",
        "skip \n",
        "skip \n",
        "skip \n",
        "skip \n",
        "skip \n",
        "skip \n",
        "skip \n",
        "skip \n",
        "skip \n",
        "skip \n",
        "skip \n",
        "skip \n",
        "skip \n",
        "skip \n",
        "skip \n",
        "\n",
        "Excluded: 224\n",
        "\n",
        "A+ 0\n",
        "A 0\n",
        "A- 0\n",
        "B+ 0\n",
        "B 0\n",
        "B- 0\n",
        "C+ 0\n",
        "C 0\n",
        "C- 0\n",
        "D 0\n",
        "E 0\n",
        "K 0\n",
        "\n",
        "Passed: 0\n",
        "Failed: 0\n"
       ]
      }
     ],
     "prompt_number": 82
    },
    {
     "cell_type": "code",
     "collapsed": false,
     "input": [
      "\n",
      "fig = figure(1, figsize = (12,6) )\n",
      "title('SCIE201/11 Enrolments and Pass Rate per year', fontsize = 15)\n",
      "\n",
      "ax = fig.add_subplot(111)\n",
      "\n",
      "years = ['2011', '2012', '2013', '2014']\n",
      "\n",
      "ax.bar([i for i in range(len(years))] ,plot_data[0] , width = 1.0, color = 'red', label='Enrolled') #x, y, width\n",
      "ax.bar([i for i in range(len(years))] ,plot_data[1] , width = 1.0, color = 'blue', label= 'Passed') \n",
      "ax.plot([-10], [-10], 'ko-', label='Pass Rate')\n",
      "\n",
      "xlabel('Year', fontsize = 15)\n",
      "xticks([i+0.5 for i in range(len(years)+1)],years)\n",
      "ylabel('Number of students', fontsize = 15)\n",
      "ylim(0,200)\n",
      "legend( numpoints=1.0)\n",
      "\n",
      "\n",
      "pass_rate = []\n",
      "\n",
      "for j in range(len(plot_data[0])):\n",
      "    if not (plot_data[1][j]) == 0:\n",
      "        pass_rate.append(float(plot_data[1][j])/plot_data[0][j]*100)\n",
      "    else:\n",
      "        pass_rate.append(0.0)\n",
      "        \n",
      "ax2 = ax.twinx()\n",
      "ax2.plot([i+0.5 for i in range(len(years))], pass_rate, 'ko-', label='Pass Rate')\n",
      "\n",
      "ax2.set_ylabel(\"Percentage Pass Rate / %\", fontsize = 15)\n",
      "ax2.set_ylim(0, 100)\n",
      "\n",
      "\n",
      "ax.set_xlim(0,4)\n",
      "#ax.legend( numpoints=1.0)\n",
      "#ax2.legend( numpoints=1.0)"
     ],
     "language": "python",
     "metadata": {},
     "outputs": [
      {
       "metadata": {},
       "output_type": "pyout",
       "prompt_number": 115,
       "text": [
        "(0, 4)"
       ]
      },
      {
       "metadata": {},
       "output_type": "display_data",
       "png": "[encoded data removed]",
       "text": [
        "<matplotlib.figure.Figure at 0x7fe705306e10>"
       ]
      }
     ],
     "prompt_number": 115
    },
    {
     "cell_type": "code",
     "collapsed": false,
     "input": [
      "plot_data2 = [[],[], []]\n",
      "for paper in [SCIE201_2011, SCIE201_2012, SCIE211_2013, SCIE211_2014]:\n",
      "    enrol, wd, exclu = paper_enrolments(paper)\n",
      "    #ps, fl = pf(paper)\n",
      "    dom, intl, M, F = gender_fees(paper)\n",
      "    plot_data2[0].append(enrol)\n",
      "    plot_data2[1].append(M)\n",
      "    plot_data2[2].append(dom)"
     ],
     "language": "python",
     "metadata": {},
     "outputs": [
      {
       "output_type": "stream",
       "stream": "stdout",
       "text": [
        "Enrolled: 36 (Excluding withdrawn)\n",
        "Withdrawn: 3\n",
        "Excluded: 3 (No grade data)\n",
        "Male :17\n",
        "Female :19\n",
        "\n",
        "Domestic :35\n",
        "International :1\n",
        "\n",
        "(Doesnt include the following)\n",
        "Withdrawn: 3\n",
        "Excluded: 3 (No grade data)\n",
        "Enrolled: 113 (Excluding withdrawn)\n",
        "Withdrawn: 3\n",
        "Excluded: 7 (No grade data)\n",
        "Male :64\n",
        "Female :49\n",
        "\n",
        "Domestic :93\n",
        "International :20\n",
        "\n",
        "(Doesnt include the following)\n",
        "Withdrawn: 3\n",
        "Excluded: 7 (No grade data)\n",
        "Enrolled: 179 (Excluding withdrawn)\n",
        "Withdrawn: 6\n",
        "Excluded: 14 (No grade data)\n",
        "Male :94\n",
        "Female :85\n",
        "\n",
        "Domestic :165\n",
        "International :14\n",
        "\n",
        "(Doesnt include the following)\n",
        "Withdrawn: 6\n",
        "Excluded: 14 (No grade data)\n",
        "Enrolled: 0 (Excluding withdrawn)\n",
        "Withdrawn: 2\n",
        "Excluded: 222 (No grade data)\n",
        "Male :0\n",
        "Female :0\n",
        "\n",
        "Domestic :0\n",
        "International :0\n",
        "\n",
        "(Doesnt include the following)\n",
        "Withdrawn: 2\n",
        "Excluded: 222 (No grade data)\n"
       ]
      }
     ],
     "prompt_number": 128
    },
    {
     "cell_type": "heading",
     "level": 1,
     "metadata": {},
     "source": [
      "Male Female"
     ]
    },
    {
     "cell_type": "code",
     "collapsed": false,
     "input": [
      "fig = figure(1, figsize = (12,6) )\n",
      "title('SCIE201/11 Gender Ratio per year', fontsize = 15)\n",
      "\n",
      "ax = fig.add_subplot(111)\n",
      "\n",
      "ax.bar([i for i in range(len(years))] ,plot_data2[0] , width = 1.0, color = 'red', label='Female') #x, y, width\n",
      "ax.bar([i for i in range(len(years))] ,plot_data2[1] , width = 1.0, color = 'blue', label= 'Male') \n",
      "ax.plot([-10], [-10], 'ko-', label='Percentage')\n",
      "\n",
      "xlabel('Year', fontsize = 15)\n",
      "xticks([i+0.5 for i in range(len(years)+1)],years)\n",
      "ylabel('Number of students', fontsize = 15)\n",
      "ylim(0,200)\n",
      "legend(numpoints=1.0)\n",
      "\n",
      "gender_ratio = []\n",
      "\n",
      "for j in range(len(plot_data2[0])):\n",
      "    if not (plot_data2[1][j]) == 0:\n",
      "        gender_ratio.append(float(plot_data2[1][j])/plot_data2[0][j]*100)\n",
      "    else:\n",
      "        gender_ratio.append(0.0)\n",
      "        \n",
      "ax2 = ax.twinx()\n",
      "ax2.plot([i+0.5 for i in range(len(years))], gender_ratio, 'ko-', label='Male Percentage')\n",
      "\n",
      "ax2.set_ylabel(\"Male Percentage / %\", fontsize = 15)\n",
      "ax2.set_ylim(0, 100)\n",
      "\n",
      "ax2.axhline(y=50, linestyle = '--', color='k')\n",
      "\n",
      "ax.set_xlim(0,4)\n"
     ],
     "language": "python",
     "metadata": {},
     "outputs": [
      {
       "metadata": {},
       "output_type": "pyout",
       "prompt_number": 137,
       "text": [
        "(0, 4)"
       ]
      },
      {
       "metadata": {},
       "output_type": "display_data",
       "png": "[encoded data removed]",
       "text": [
        "<matplotlib.figure.Figure at 0x7fe704d16e50>"
       ]
      }
     ],
     "prompt_number": 137
    },
    {
     "cell_type": "heading",
     "level": 1,
     "metadata": {},
     "source": [
      "Dom Intl"
     ]
    },
    {
     "cell_type": "code",
     "collapsed": false,
     "input": [
      "fig = figure(1, figsize = (12,6) )\n",
      "title('SCIE201/11 Domestic International Ratio per year', fontsize = 15)\n",
      "\n",
      "ax = fig.add_subplot(111)\n",
      "\n",
      "ax.bar([i for i in range(len(years))] ,plot_data2[0] , width = 1.0, color = 'red', label='International') #x, y, width\n",
      "ax.bar([i for i in range(len(years))] ,plot_data2[2] , width = 1.0, color = 'blue', label= 'Domestic') \n",
      "ax.plot([-10], [-10], 'ko-', label='Percentage')\n",
      "\n",
      "xlabel('Year', fontsize = 15)\n",
      "xticks([i+0.5 for i in range(len(years)+1)],years)\n",
      "ylabel('Number of students', fontsize = 15)\n",
      "ylim(0,200)\n",
      "legend(numpoints=1.0)\n",
      "\n",
      "intl_ratio = []\n",
      "\n",
      "for j in range(len(plot_data2[0])):\n",
      "    if not (plot_data2[2][j]) == 0:\n",
      "        intl_ratio.append(float(plot_data2[2][j])/plot_data2[0][j]*100)\n",
      "    else:\n",
      "        intl_ratio.append(0.0)\n",
      "        \n",
      "ax2 = ax.twinx()\n",
      "ax2.plot([i+0.5 for i in range(len(years))], intl_ratio, 'ko-', label='Domestic %')\n",
      "\n",
      "ax2.set_ylabel(\"Domestic Percentage / %\", fontsize = 15)\n",
      "ax2.set_ylim(0, 100)\n",
      "\n",
      "ax.set_xlim(0,4)"
     ],
     "language": "python",
     "metadata": {},
     "outputs": [
      {
       "metadata": {},
       "output_type": "pyout",
       "prompt_number": 145,
       "text": [
        "(0, 4)"
       ]
      },
      {
       "metadata": {},
       "output_type": "display_data",
       "png": "[encoded data removed]",
       "text": [
        "<matplotlib.figure.Figure at 0x7fe704da5f90>"
       ]
      }
     ],
     "prompt_number": 145
    },
    {
     "cell_type": "heading",
     "level": 1,
     "metadata": {},
     "source": [
      "Ethnicity Data"
     ]
    },
    {
     "cell_type": "code",
     "collapsed": false,
     "input": [
      "temp_list = []\n",
      "for paper in [SCIE201_2011, SCIE201_2012, SCIE211_2013, SCIE211_2014]:\n",
      "    eths, eth_list = paper_ethnicities(paper)\n",
      "    #enrol, wd, exclu = paper_enrolments(paper)\n",
      "    #ps, fl = pf(paper)\n",
      "    for eth in eths:\n",
      "        temp_list.append(eth)"
     ],
     "language": "python",
     "metadata": {},
     "outputs": [
      {
       "output_type": "stream",
       "stream": "stdout",
       "text": [
        "Other Asian 2\n",
        "New Zealand Maori 5\n",
        "New Zealand European/Pakeha 20\n",
        "British/Irish 5\n",
        "Chinese 3\n",
        "Other European 1\n",
        "Latin American 1\n",
        "Samoan 2\n",
        "African 1\n",
        "Indian 1\n",
        "Other Southeast Asian 1\n",
        "Other Asian 8\n",
        "Middle Eastern 5\n",
        "New Zealand European/Pakeha 63\n",
        "New Zealand Maori 12\n",
        "Australian 3\n",
        "Chinese 6\n",
        "Indian 3\n",
        "British/Irish 5\n",
        "Sri Lankan 1\n",
        "Other European 8\n",
        "Other Southeast Asian 4\n",
        "Other 3\n",
        "Fijian 1\n",
        "Samoan 1\n",
        "Middle Eastern 3\n",
        "Other 10\n",
        "Cook Island Maori 2\n",
        "New Zealand European/Pakeha 109\n",
        "Other Southeast Asian 5\n",
        "Other Asian 2\n",
        "Filipino 2\n",
        "African 3\n",
        "New Zealand Maori 19\n",
        "Indian 6\n",
        "Other European 7\n",
        "British/Irish 9\n",
        "Japanese 1\n",
        "Other Pacific Peoples 2\n",
        "Dutch 2\n",
        "Chinese 5\n",
        "Samoan 4\n",
        "German 1\n",
        "Australian 2\n",
        "Vietnamese 2\n",
        "Sri Lankan 2\n",
        "Fijian 1\n",
        "Other Asian 11\n",
        "Other Southeast Asian 2\n",
        "African 5\n",
        "New Zealand Maori 19\n",
        "New Zealand European/Pakeha 123\n",
        "British/Irish 15\n",
        "Other 5\n",
        "Indian 4\n",
        "Filipino 2\n",
        "Samoan 6\n",
        "Sri Lankan 2\n",
        "Dutch 4\n",
        "Middle Eastern 2\n",
        "Chinese 5\n",
        "Cambodian 1\n",
        "Australian 3\n",
        "Polish 1\n",
        "Other European 4\n",
        "Cook Island Maori 1\n",
        "Greek 1\n",
        "Latin American 5\n",
        "German 1\n",
        "Fijian 1\n",
        "Tongan 1\n"
       ]
      }
     ],
     "prompt_number": 152
    },
    {
     "cell_type": "code",
     "collapsed": false,
     "input": [
      "all_eths = []\n",
      "for eth in temp_list:\n",
      "    if not eth in all_eths:\n",
      "        all_eths.append(eth)\n",
      "all_eths = sorted(all_eths)"
     ],
     "language": "python",
     "metadata": {},
     "outputs": [],
     "prompt_number": 153
    },
    {
     "cell_type": "code",
     "collapsed": false,
     "input": [
      "for eth in all_eths:\n",
      "    print eth"
     ],
     "language": "python",
     "metadata": {},
     "outputs": [
      {
       "output_type": "stream",
       "stream": "stdout",
       "text": [
        "African\n",
        "Australian\n",
        "British/Irish\n",
        "Cambodian\n",
        "Chinese\n",
        "Cook Island Maori\n",
        "Dutch\n",
        "Fijian\n",
        "Filipino\n",
        "German\n",
        "Greek\n",
        "Indian\n",
        "Japanese\n",
        "Latin American\n",
        "Middle Eastern\n",
        "New Zealand European/Pakeha\n",
        "New Zealand Maori\n",
        "Other\n",
        "Other Asian\n",
        "Other European\n",
        "Other Pacific Peoples\n",
        "Other Southeast Asian\n",
        "Polish\n",
        "Samoan\n",
        "Sri Lankan\n",
        "Tongan\n",
        "Vietnamese\n"
       ]
      }
     ],
     "prompt_number": 155
    },
    {
     "cell_type": "code",
     "collapsed": false,
     "input": [
      "eth_data = [[],[],[],[]]\n",
      "e=0\n",
      "for paper in [SCIE201_2011, SCIE201_2012, SCIE211_2013, SCIE211_2014]:\n",
      "    eths, eth_list = paper_ethnicities(paper)\n",
      "    for eth in all_eths:  \n",
      "        eth_data[e].append(eth_list.count(eth))\n",
      "    e+=1"
     ],
     "language": "python",
     "metadata": {},
     "outputs": [
      {
       "output_type": "stream",
       "stream": "stdout",
       "text": [
        "Other Asian 2\n",
        "New Zealand Maori 5\n",
        "New Zealand European/Pakeha 20\n",
        "British/Irish 5\n",
        "Chinese 3\n",
        "Other European 1\n",
        "Latin American 1\n",
        "Samoan 2\n",
        "African 1\n",
        "Indian 1\n",
        "Other Southeast Asian 1\n",
        "Other Asian 8\n",
        "Middle Eastern 5\n",
        "New Zealand European/Pakeha 63\n",
        "New Zealand Maori 12\n",
        "Australian 3\n",
        "Chinese 6\n",
        "Indian 3\n",
        "British/Irish 5\n",
        "Sri Lankan 1\n",
        "Other European 8\n",
        "Other Southeast Asian 4\n",
        "Other 3\n",
        "Fijian 1\n",
        "Samoan 1\n",
        "Middle Eastern 3\n",
        "Other 10\n",
        "Cook Island Maori 2\n",
        "New Zealand European/Pakeha 109\n",
        "Other Southeast Asian 5\n",
        "Other Asian 2\n",
        "Filipino 2\n",
        "African 3\n",
        "New Zealand Maori 19\n",
        "Indian 6\n",
        "Other European 7\n",
        "British/Irish 9\n",
        "Japanese 1\n",
        "Other Pacific Peoples 2\n",
        "Dutch 2\n",
        "Chinese 5\n",
        "Samoan 4\n",
        "German 1\n",
        "Australian 2\n",
        "Vietnamese 2\n",
        "Sri Lankan 2\n",
        "Fijian 1\n",
        "Other Asian 11\n",
        "Other Southeast Asian 2\n",
        "African 5\n",
        "New Zealand Maori 19\n",
        "New Zealand European/Pakeha 123\n",
        "British/Irish 15\n",
        "Other 5\n",
        "Indian 4\n",
        "Filipino 2\n",
        "Samoan 6\n",
        "Sri Lankan 2\n",
        "Dutch 4\n",
        "Middle Eastern 2\n",
        "Chinese 5\n",
        "Cambodian 1\n",
        "Australian 3\n",
        "Polish 1\n",
        "Other European 4\n",
        "Cook Island Maori 1\n",
        "Greek 1\n",
        "Latin American 5\n",
        "German 1\n",
        "Fijian 1\n",
        "Tongan 1\n"
       ]
      }
     ],
     "prompt_number": 156
    },
    {
     "cell_type": "code",
     "collapsed": false,
     "input": [
      "eth_table_data = []\n",
      "for i in range(len(all_eths)):\n",
      "    row = [all_eths[i],eth_data[0][i],eth_data[1][i],eth_data[2][i],eth_data[3][i], sum([eth_data[0][i],eth_data[1][i],eth_data[2][i],eth_data[3][i]])]\n",
      "    eth_table_data.append(row)"
     ],
     "language": "python",
     "metadata": {},
     "outputs": [],
     "prompt_number": 161
    },
    {
     "cell_type": "heading",
     "level": 1,
     "metadata": {},
     "source": [
      "Summary Ethnicity table"
     ]
    },
    {
     "cell_type": "code",
     "collapsed": false,
     "input": [
      "et = make_html_table(['Ethnicity', '2011','2012','2013','2014', 'Total'], eth_table_data)"
     ],
     "language": "python",
     "metadata": {},
     "outputs": [],
     "prompt_number": 162
    },
    {
     "cell_type": "code",
     "collapsed": false,
     "input": [
      "HTML(et)"
     ],
     "language": "python",
     "metadata": {},
     "outputs": [
      {
       "html": [
        "<table><tr><th>Ethnicity</th><th>2011</th><th>2012</th><th>2013</th><th>2014</th><th>Total</th></tr><tr><td>African</td><td>1</td><td>0</td><td>3</td><td>5</td><td>9</td></tr><tr><td>Australian</td><td>0</td><td>3</td><td>2</td><td>3</td><td>8</td></tr><tr><td>British/Irish</td><td>5</td><td>5</td><td>9</td><td>15</td><td>34</td></tr><tr><td>Cambodian</td><td>0</td><td>0</td><td>0</td><td>1</td><td>1</td></tr><tr><td>Chinese</td><td>3</td><td>6</td><td>5</td><td>5</td><td>19</td></tr><tr><td>Cook Island Maori</td><td>0</td><td>0</td><td>2</td><td>1</td><td>3</td></tr><tr><td>Dutch</td><td>0</td><td>0</td><td>2</td><td>4</td><td>6</td></tr><tr><td>Fijian</td><td>0</td><td>1</td><td>1</td><td>1</td><td>3</td></tr><tr><td>Filipino</td><td>0</td><td>0</td><td>2</td><td>2</td><td>4</td></tr><tr><td>German</td><td>0</td><td>0</td><td>1</td><td>1</td><td>2</td></tr><tr><td>Greek</td><td>0</td><td>0</td><td>0</td><td>1</td><td>1</td></tr><tr><td>Indian</td><td>1</td><td>3</td><td>6</td><td>4</td><td>14</td></tr><tr><td>Japanese</td><td>0</td><td>0</td><td>1</td><td>0</td><td>1</td></tr><tr><td>Latin American</td><td>1</td><td>0</td><td>0</td><td>5</td><td>6</td></tr><tr><td>Middle Eastern</td><td>0</td><td>5</td><td>3</td><td>2</td><td>10</td></tr><tr><td>New Zealand European/Pakeha</td><td>20</td><td>63</td><td>109</td><td>123</td><td>315</td></tr><tr><td>New Zealand Maori</td><td>5</td><td>12</td><td>19</td><td>19</td><td>55</td></tr><tr><td>Other</td><td>0</td><td>3</td><td>10</td><td>5</td><td>18</td></tr><tr><td>Other Asian</td><td>2</td><td>8</td><td>2</td><td>11</td><td>23</td></tr><tr><td>Other European</td><td>1</td><td>8</td><td>7</td><td>4</td><td>20</td></tr><tr><td>Other Pacific Peoples</td><td>0</td><td>0</td><td>2</td><td>0</td><td>2</td></tr><tr><td>Other Southeast Asian</td><td>1</td><td>4</td><td>5</td><td>2</td><td>12</td></tr><tr><td>Polish</td><td>0</td><td>0</td><td>0</td><td>1</td><td>1</td></tr><tr><td>Samoan</td><td>2</td><td>1</td><td>4</td><td>6</td><td>13</td></tr><tr><td>Sri Lankan</td><td>0</td><td>1</td><td>2</td><td>2</td><td>5</td></tr><tr><td>Tongan</td><td>0</td><td>0</td><td>0</td><td>1</td><td>1</td></tr><tr><td>Vietnamese</td><td>0</td><td>0</td><td>2</td><td>0</td><td>2</td></tr></table>"
       ],
       "metadata": {},
       "output_type": "pyout",
       "prompt_number": 163,
       "text": [
        "<IPython.core.display.HTML at 0x7fe704a10150>"
       ]
      }
     ],
     "prompt_number": 163
    },
    {
     "cell_type": "code",
     "collapsed": false,
     "input": [
      "print et"
     ],
     "language": "python",
     "metadata": {},
     "outputs": [
      {
       "output_type": "stream",
       "stream": "stdout",
       "text": [
        "<table><tr><th>Ethnicity</th><th>2011</th><th>2012</th><th>2013</th><th>2014</th><th>Total</th></tr><tr><td>African</td><td>1</td><td>0</td><td>3</td><td>5</td><td>9</td></tr><tr><td>Australian</td><td>0</td><td>3</td><td>2</td><td>3</td><td>8</td></tr><tr><td>British/Irish</td><td>5</td><td>5</td><td>9</td><td>15</td><td>34</td></tr><tr><td>Cambodian</td><td>0</td><td>0</td><td>0</td><td>1</td><td>1</td></tr><tr><td>Chinese</td><td>3</td><td>6</td><td>5</td><td>5</td><td>19</td></tr><tr><td>Cook Island Maori</td><td>0</td><td>0</td><td>2</td><td>1</td><td>3</td></tr><tr><td>Dutch</td><td>0</td><td>0</td><td>2</td><td>4</td><td>6</td></tr><tr><td>Fijian</td><td>0</td><td>1</td><td>1</td><td>1</td><td>3</td></tr><tr><td>Filipino</td><td>0</td><td>0</td><td>2</td><td>2</td><td>4</td></tr><tr><td>German</td><td>0</td><td>0</td><td>1</td><td>1</td><td>2</td></tr><tr><td>Greek</td><td>0</td><td>0</td><td>0</td><td>1</td><td>1</td></tr><tr><td>Indian</td><td>1</td><td>3</td><td>6</td><td>4</td><td>14</td></tr><tr><td>Japanese</td><td>0</td><td>0</td><td>1</td><td>0</td><td>1</td></tr><tr><td>Latin American</td><td>1</td><td>0</td><td>0</td><td>5</td><td>6</td></tr><tr><td>Middle Eastern</td><td>0</td><td>5</td><td>3</td><td>2</td><td>10</td></tr><tr><td>New Zealand European/Pakeha</td><td>20</td><td>63</td><td>109</td><td>123</td><td>315</td></tr><tr><td>New Zealand Maori</td><td>5</td><td>12</td><td>19</td><td>19</td><td>55</td></tr><tr><td>Other</td><td>0</td><td>3</td><td>10</td><td>5</td><td>18</td></tr><tr><td>Other Asian</td><td>2</td><td>8</td><td>2</td><td>11</td><td>23</td></tr><tr><td>Other European</td><td>1</td><td>8</td><td>7</td><td>4</td><td>20</td></tr><tr><td>Other Pacific Peoples</td><td>0</td><td>0</td><td>2</td><td>0</td><td>2</td></tr><tr><td>Other Southeast Asian</td><td>1</td><td>4</td><td>5</td><td>2</td><td>12</td></tr><tr><td>Polish</td><td>0</td><td>0</td><td>0</td><td>1</td><td>1</td></tr><tr><td>Samoan</td><td>2</td><td>1</td><td>4</td><td>6</td><td>13</td></tr><tr><td>Sri Lankan</td><td>0</td><td>1</td><td>2</td><td>2</td><td>5</td></tr><tr><td>Tongan</td><td>0</td><td>0</td><td>0</td><td>1</td><td>1</td></tr><tr><td>Vietnamese</td><td>0</td><td>0</td><td>2</td><td>0</td><td>2</td></tr></table>\n"
       ]
      }
     ],
     "prompt_number": 164
    },
    {
     "cell_type": "heading",
     "level": 1,
     "metadata": {},
     "source": [
      "Major/Degree Summary"
     ]
    },
    {
     "cell_type": "code",
     "collapsed": false,
     "input": [
      "temp_list = []\n",
      "for paper in [SCIE201_2011, SCIE201_2012, SCIE211_2013, SCIE211_2014]:\n",
      "    degs, deg_list = paper_degree(paper)\n",
      "    #enrol, wd, exclu = paper_enrolments(paper)\n",
      "    #ps, fl = pf(paper)\n",
      "    for deg in degs:\n",
      "        temp_list.append(deg)\n",
      "        \n",
      "all_degs = []\n",
      "for deg in temp_list:\n",
      "    if not deg in all_degs:\n",
      "        all_degs.append(deg)\n",
      "all_degs = sorted(all_degs)\n",
      "\n",
      "print\n",
      "for deg in all_degs:\n",
      "    print deg\n",
      "print\n",
      "\n",
      "deg_data = [[],[],[],[]]\n",
      "d=0\n",
      "for paper in [SCIE201_2011, SCIE201_2012, SCIE211_2013, SCIE211_2014]:\n",
      "    degs, deg_list = paper_degree(paper)\n",
      "    for deg in all_degs:  \n",
      "        deg_data[d].append(deg_list.count(deg))\n",
      "    d+=1"
     ],
     "language": "python",
     "metadata": {},
     "outputs": [
      {
       "output_type": "stream",
       "stream": "stdout",
       "text": [
        "BSC 24\n",
        "BCA/BS 4\n",
        "BBMEDS 3\n",
        "BA 2\n",
        "BCA 2\n",
        "GDSCI 1\n",
        "LLB 4\n",
        "COP 1\n",
        "BTE/BA 1\n",
        "BSC 86\n",
        "BBMEDS 11\n",
        "GDSCI 5\n",
        "BCA 2\n",
        "BA 5\n",
        "BDI 1\n",
        "BAS 1\n",
        "COP 3\n",
        "BCA/BS 3\n",
        "BSCTEC 1\n",
        "LLB 2\n",
        "LLBHON 1\n",
        "BAHONS 1\n",
        "BE 1\n",
        "BSC 125\n",
        "BBMEDS 14\n",
        "BA 17\n",
        "BCOM 16\n",
        "BBSC 3\n",
        "LLB 6\n",
        "BEHONS 7\n",
        "COP 1\n",
        "BDI 1\n",
        "BMUSIC 2\n",
        "GDSCI 3\n",
        "BCA/BS 1\n",
        "BAS 2\n",
        "BAHONS 1\n",
        "BSC 146\n",
        "BBMEDS 13\n",
        "BBSC 1\n",
        "LLB 8\n",
        "GDSCI 4\n",
        "BCOM 27\n",
        "BA 14\n",
        "GDARTS 1\n",
        "BDI 2\n",
        "OUCOP 1\n",
        "PGDSCI 1\n",
        "MSC 1\n",
        "COP 3\n",
        "BEHONS 1\n",
        "GDCOMR 1\n",
        "\n",
        "BA\n",
        "BAHONS\n",
        "BAS\n",
        "BBMEDS\n",
        "BBSC\n",
        "BCA\n",
        "BCA/BS\n",
        "BCOM\n",
        "BDI\n",
        "BE\n",
        "BEHONS\n",
        "BMUSIC\n",
        "BSC\n",
        "BSCTEC\n",
        "BTE/BA\n",
        "COP\n",
        "GDARTS\n",
        "GDCOMR\n",
        "GDSCI\n",
        "LLB\n",
        "LLBHON\n",
        "MSC\n",
        "OUCOP\n",
        "PGDSCI\n",
        "\n",
        "BSC 24\n",
        "BCA/BS 4\n",
        "BBMEDS 3\n",
        "BA 2\n",
        "BCA 2\n",
        "GDSCI 1\n",
        "LLB 4\n",
        "COP 1\n",
        "BTE/BA 1\n",
        "BSC 86\n",
        "BBMEDS 11\n",
        "GDSCI 5\n",
        "BCA 2\n",
        "BA 5\n",
        "BDI 1\n",
        "BAS 1\n",
        "COP 3\n",
        "BCA/BS 3\n",
        "BSCTEC 1\n",
        "LLB 2\n",
        "LLBHON 1\n",
        "BAHONS 1\n",
        "BE 1\n",
        "BSC 125\n",
        "BBMEDS 14\n",
        "BA 17\n",
        "BCOM 16\n",
        "BBSC 3\n",
        "LLB 6\n",
        "BEHONS 7\n",
        "COP 1\n",
        "BDI 1\n",
        "BMUSIC 2\n",
        "GDSCI 3\n",
        "BCA/BS 1\n",
        "BAS 2\n",
        "BAHONS 1\n",
        "BSC 146\n",
        "BBMEDS 13\n",
        "BBSC 1\n",
        "LLB 8\n",
        "GDSCI 4\n",
        "BCOM 27\n",
        "BA 14\n",
        "GDARTS 1\n",
        "BDI 2\n",
        "OUCOP 1\n",
        "PGDSCI 1\n",
        "MSC 1\n",
        "COP 3\n",
        "BEHONS 1\n",
        "GDCOMR 1\n"
       ]
      }
     ],
     "prompt_number": 169
    },
    {
     "cell_type": "code",
     "collapsed": false,
     "input": [
      "deg_table_data = []\n",
      "for i in range(len(all_degs)):\n",
      "    row = [all_degs[i],deg_data[0][i],deg_data[1][i],deg_data[2][i],deg_data[3][i], sum([deg_data[0][i],deg_data[1][i],deg_data[2][i],deg_data[3][i]])]\n",
      "    deg_table_data.append(row)"
     ],
     "language": "python",
     "metadata": {},
     "outputs": [],
     "prompt_number": 170
    },
    {
     "cell_type": "heading",
     "level": 1,
     "metadata": {},
     "source": [
      "Degree Summary Table"
     ]
    },
    {
     "cell_type": "code",
     "collapsed": false,
     "input": [
      "deg = make_html_table(['Degree', '2011','2012','2013','2014', 'Total'], deg_table_data)"
     ],
     "language": "python",
     "metadata": {},
     "outputs": [],
     "prompt_number": 171
    },
    {
     "cell_type": "code",
     "collapsed": false,
     "input": [
      "HTML(deg)"
     ],
     "language": "python",
     "metadata": {},
     "outputs": [
      {
       "html": [
        "<table><tr><th>Degree</th><th>2011</th><th>2012</th><th>2013</th><th>2014</th><th>Total</th></tr><tr><td>BA</td><td>2</td><td>5</td><td>17</td><td>14</td><td>38</td></tr><tr><td>BAHONS</td><td>0</td><td>1</td><td>1</td><td>0</td><td>2</td></tr><tr><td>BAS</td><td>0</td><td>1</td><td>2</td><td>0</td><td>3</td></tr><tr><td>BBMEDS</td><td>3</td><td>11</td><td>14</td><td>13</td><td>41</td></tr><tr><td>BBSC</td><td>0</td><td>0</td><td>3</td><td>1</td><td>4</td></tr><tr><td>BCA</td><td>2</td><td>2</td><td>0</td><td>0</td><td>4</td></tr><tr><td>BCA/BS</td><td>4</td><td>3</td><td>1</td><td>0</td><td>8</td></tr><tr><td>BCOM</td><td>0</td><td>0</td><td>16</td><td>27</td><td>43</td></tr><tr><td>BDI</td><td>0</td><td>1</td><td>1</td><td>2</td><td>4</td></tr><tr><td>BE</td><td>0</td><td>1</td><td>0</td><td>0</td><td>1</td></tr><tr><td>BEHONS</td><td>0</td><td>0</td><td>7</td><td>1</td><td>8</td></tr><tr><td>BMUSIC</td><td>0</td><td>0</td><td>2</td><td>0</td><td>2</td></tr><tr><td>BSC</td><td>24</td><td>86</td><td>125</td><td>146</td><td>381</td></tr><tr><td>BSCTEC</td><td>0</td><td>1</td><td>0</td><td>0</td><td>1</td></tr><tr><td>BTE/BA</td><td>1</td><td>0</td><td>0</td><td>0</td><td>1</td></tr><tr><td>COP</td><td>1</td><td>3</td><td>1</td><td>3</td><td>8</td></tr><tr><td>GDARTS</td><td>0</td><td>0</td><td>0</td><td>1</td><td>1</td></tr><tr><td>GDCOMR</td><td>0</td><td>0</td><td>0</td><td>1</td><td>1</td></tr><tr><td>GDSCI</td><td>1</td><td>5</td><td>3</td><td>4</td><td>13</td></tr><tr><td>LLB</td><td>4</td><td>2</td><td>6</td><td>8</td><td>20</td></tr><tr><td>LLBHON</td><td>0</td><td>1</td><td>0</td><td>0</td><td>1</td></tr><tr><td>MSC</td><td>0</td><td>0</td><td>0</td><td>1</td><td>1</td></tr><tr><td>OUCOP</td><td>0</td><td>0</td><td>0</td><td>1</td><td>1</td></tr><tr><td>PGDSCI</td><td>0</td><td>0</td><td>0</td><td>1</td><td>1</td></tr></table>"
       ],
       "metadata": {},
       "output_type": "pyout",
       "prompt_number": 172,
       "text": [
        "<IPython.core.display.HTML at 0x7fe704eedc90>"
       ]
      }
     ],
     "prompt_number": 172
    },
    {
     "cell_type": "code",
     "collapsed": false,
     "input": [
      "print deg"
     ],
     "language": "python",
     "metadata": {},
     "outputs": [
      {
       "output_type": "stream",
       "stream": "stdout",
       "text": [
        "<table><tr><th>Degree</th><th>2011</th><th>2012</th><th>2013</th><th>2014</th><th>Total</th></tr><tr><td>BA</td><td>2</td><td>5</td><td>17</td><td>14</td><td>38</td></tr><tr><td>BAHONS</td><td>0</td><td>1</td><td>1</td><td>0</td><td>2</td></tr><tr><td>BAS</td><td>0</td><td>1</td><td>2</td><td>0</td><td>3</td></tr><tr><td>BBMEDS</td><td>3</td><td>11</td><td>14</td><td>13</td><td>41</td></tr><tr><td>BBSC</td><td>0</td><td>0</td><td>3</td><td>1</td><td>4</td></tr><tr><td>BCA</td><td>2</td><td>2</td><td>0</td><td>0</td><td>4</td></tr><tr><td>BCA/BS</td><td>4</td><td>3</td><td>1</td><td>0</td><td>8</td></tr><tr><td>BCOM</td><td>0</td><td>0</td><td>16</td><td>27</td><td>43</td></tr><tr><td>BDI</td><td>0</td><td>1</td><td>1</td><td>2</td><td>4</td></tr><tr><td>BE</td><td>0</td><td>1</td><td>0</td><td>0</td><td>1</td></tr><tr><td>BEHONS</td><td>0</td><td>0</td><td>7</td><td>1</td><td>8</td></tr><tr><td>BMUSIC</td><td>0</td><td>0</td><td>2</td><td>0</td><td>2</td></tr><tr><td>BSC</td><td>24</td><td>86</td><td>125</td><td>146</td><td>381</td></tr><tr><td>BSCTEC</td><td>0</td><td>1</td><td>0</td><td>0</td><td>1</td></tr><tr><td>BTE/BA</td><td>1</td><td>0</td><td>0</td><td>0</td><td>1</td></tr><tr><td>COP</td><td>1</td><td>3</td><td>1</td><td>3</td><td>8</td></tr><tr><td>GDARTS</td><td>0</td><td>0</td><td>0</td><td>1</td><td>1</td></tr><tr><td>GDCOMR</td><td>0</td><td>0</td><td>0</td><td>1</td><td>1</td></tr><tr><td>GDSCI</td><td>1</td><td>5</td><td>3</td><td>4</td><td>13</td></tr><tr><td>LLB</td><td>4</td><td>2</td><td>6</td><td>8</td><td>20</td></tr><tr><td>LLBHON</td><td>0</td><td>1</td><td>0</td><td>0</td><td>1</td></tr><tr><td>MSC</td><td>0</td><td>0</td><td>0</td><td>1</td><td>1</td></tr><tr><td>OUCOP</td><td>0</td><td>0</td><td>0</td><td>1</td><td>1</td></tr><tr><td>PGDSCI</td><td>0</td><td>0</td><td>0</td><td>1</td><td>1</td></tr></table>\n"
       ]
      }
     ],
     "prompt_number": 173
    },
    {
     "cell_type": "code",
     "collapsed": false,
     "input": [
      "def deg_major_table(degree):\n",
      "    BA_majors = []\n",
      "    majors = []\n",
      "    for paper in [SCIE201_2011, SCIE201_2012, SCIE211_2013, SCIE211_2014]:\n",
      "        for row in paper:\n",
      "            if row[18].strip() == degree:\n",
      "                if not row[19] in majors:\n",
      "                    majors.append(row[19])\n",
      "                BA_majors.append([row[0][:-2],row[18],row[19],row[15]])\n",
      "\n",
      "    majors = sorted(majors)\n",
      "\n",
      "    print majors\n",
      "\n",
      "    BA_table_data=[]\n",
      "\n",
      "    for major in majors:\n",
      "        row = [major]\n",
      "        for yr in ['2011', '2012', '2013', '2014']:\n",
      "            k = 0\n",
      "            for line in BA_majors:\n",
      "                if line[0] == yr:\n",
      "                    if line[2] == major:\n",
      "                        k+=1\n",
      "            row.append(k)\n",
      "        row.append(sum(row[1:]))\n",
      "        BA_table_data.append(row)\n",
      "        \n",
      "    B = make_html_table([degree+' Major', '2011','2012','2013','2014', 'Total'], BA_table_data)   \n",
      "    return B\n"
     ],
     "language": "python",
     "metadata": {},
     "outputs": [],
     "prompt_number": 184
    },
    {
     "cell_type": "code",
     "collapsed": false,
     "input": [
      "BA = make_html_table(['BA Major', '2011','2012','2013','2014', 'Total'], BA_table_data)"
     ],
     "language": "python",
     "metadata": {},
     "outputs": [],
     "prompt_number": 181
    },
    {
     "cell_type": "code",
     "collapsed": false,
     "input": [
      "HTML(BA)"
     ],
     "language": "python",
     "metadata": {},
     "outputs": [
      {
       "html": [
        "<table><tr><th>BA Major</th><th>2011</th><th>2012</th><th>2013</th><th>2014</th><th>Total</th></tr><tr><td>CLAS</td><td>0</td><td>0</td><td>1</td><td>0</td><td>1</td></tr><tr><td>CRIM</td><td>1</td><td>0</td><td>3</td><td>2</td><td>6</td></tr><tr><td>CUAN</td><td>0</td><td>0</td><td>0</td><td>1</td><td>1</td></tr><tr><td>DEVE</td><td>0</td><td>0</td><td>1</td><td>0</td><td>1</td></tr><tr><td>ECON</td><td>0</td><td>0</td><td>1</td><td>0</td><td>1</td></tr><tr><td>EDPS</td><td>0</td><td>0</td><td>1</td><td>1</td><td>2</td></tr><tr><td>EDUC</td><td>0</td><td>1</td><td>0</td><td>0</td><td>1</td></tr><tr><td>ENGL</td><td>0</td><td>1</td><td>0</td><td>1</td><td>2</td></tr><tr><td>ENGS</td><td>0</td><td>0</td><td>1</td><td>0</td><td>1</td></tr><tr><td>FILM</td><td>0</td><td>0</td><td>0</td><td>1</td><td>1</td></tr><tr><td>FREN</td><td>0</td><td>0</td><td>1</td><td>0</td><td>1</td></tr><tr><td>HIST</td><td>0</td><td>0</td><td>1</td><td>1</td><td>2</td></tr><tr><td>INTP</td><td>0</td><td>0</td><td>2</td><td>1</td><td>3</td></tr><tr><td>JAPA</td><td>0</td><td>0</td><td>0</td><td>1</td><td>1</td></tr><tr><td>MDIA</td><td>0</td><td>1</td><td>0</td><td>0</td><td>1</td></tr><tr><td>PHIL</td><td>0</td><td>2</td><td>1</td><td>2</td><td>5</td></tr><tr><td>POLS</td><td>0</td><td>0</td><td>1</td><td>0</td><td>1</td></tr><tr><td>PSYC</td><td>1</td><td>0</td><td>2</td><td>2</td><td>5</td></tr><tr><td>SOSC</td><td>0</td><td>0</td><td>0</td><td>1</td><td>1</td></tr><tr><td>SPAN</td><td>0</td><td>0</td><td>1</td><td>0</td><td>1</td></tr></table>"
       ],
       "metadata": {},
       "output_type": "pyout",
       "prompt_number": 182,
       "text": [
        "<IPython.core.display.HTML at 0x7fe7059bec10>"
       ]
      }
     ],
     "prompt_number": 182
    },
    {
     "cell_type": "code",
     "collapsed": false,
     "input": [
      "print BA"
     ],
     "language": "python",
     "metadata": {},
     "outputs": [
      {
       "output_type": "stream",
       "stream": "stdout",
       "text": [
        "<table><tr><th>BA Major</th><th>2011</th><th>2012</th><th>2013</th><th>2014</th><th>Total</th></tr><tr><td>CLAS</td><td>0</td><td>0</td><td>1</td><td>0</td><td>1</td></tr><tr><td>CRIM</td><td>1</td><td>0</td><td>3</td><td>2</td><td>6</td></tr><tr><td>CUAN</td><td>0</td><td>0</td><td>0</td><td>1</td><td>1</td></tr><tr><td>DEVE</td><td>0</td><td>0</td><td>1</td><td>0</td><td>1</td></tr><tr><td>ECON</td><td>0</td><td>0</td><td>1</td><td>0</td><td>1</td></tr><tr><td>EDPS</td><td>0</td><td>0</td><td>1</td><td>1</td><td>2</td></tr><tr><td>EDUC</td><td>0</td><td>1</td><td>0</td><td>0</td><td>1</td></tr><tr><td>ENGL</td><td>0</td><td>1</td><td>0</td><td>1</td><td>2</td></tr><tr><td>ENGS</td><td>0</td><td>0</td><td>1</td><td>0</td><td>1</td></tr><tr><td>FILM</td><td>0</td><td>0</td><td>0</td><td>1</td><td>1</td></tr><tr><td>FREN</td><td>0</td><td>0</td><td>1</td><td>0</td><td>1</td></tr><tr><td>HIST</td><td>0</td><td>0</td><td>1</td><td>1</td><td>2</td></tr><tr><td>INTP</td><td>0</td><td>0</td><td>2</td><td>1</td><td>3</td></tr><tr><td>JAPA</td><td>0</td><td>0</td><td>0</td><td>1</td><td>1</td></tr><tr><td>MDIA</td><td>0</td><td>1</td><td>0</td><td>0</td><td>1</td></tr><tr><td>PHIL</td><td>0</td><td>2</td><td>1</td><td>2</td><td>5</td></tr><tr><td>POLS</td><td>0</td><td>0</td><td>1</td><td>0</td><td>1</td></tr><tr><td>PSYC</td><td>1</td><td>0</td><td>2</td><td>2</td><td>5</td></tr><tr><td>SOSC</td><td>0</td><td>0</td><td>0</td><td>1</td><td>1</td></tr><tr><td>SPAN</td><td>0</td><td>0</td><td>1</td><td>0</td><td>1</td></tr></table>\n"
       ]
      }
     ],
     "prompt_number": 183
    },
    {
     "cell_type": "heading",
     "level": 1,
     "metadata": {},
     "source": [
      "BBMEDS"
     ]
    },
    {
     "cell_type": "code",
     "collapsed": false,
     "input": [
      "BBMEDS = deg_major_table('BBMEDS')\n",
      "HTML(BBMEDS)"
     ],
     "language": "python",
     "metadata": {},
     "outputs": [
      {
       "output_type": "stream",
       "stream": "stdout",
       "text": [
        "['HGEN', 'MOLP', 'MPMC']\n"
       ]
      },
      {
       "html": [
        "<table><tr><th>BBMEDS Major</th><th>2011</th><th>2012</th><th>2013</th><th>2014</th><th>Total</th></tr><tr><td>HGEN</td><td>2</td><td>5</td><td>8</td><td>7</td><td>22</td></tr><tr><td>MOLP</td><td>1</td><td>6</td><td>4</td><td>6</td><td>17</td></tr><tr><td>MPMC</td><td>0</td><td>0</td><td>2</td><td>0</td><td>2</td></tr></table>"
       ],
       "metadata": {},
       "output_type": "pyout",
       "prompt_number": 187,
       "text": [
        "<IPython.core.display.HTML at 0x7fe704a316d0>"
       ]
      }
     ],
     "prompt_number": 187
    },
    {
     "cell_type": "code",
     "collapsed": false,
     "input": [
      "print BBMEDS"
     ],
     "language": "python",
     "metadata": {},
     "outputs": [
      {
       "output_type": "stream",
       "stream": "stdout",
       "text": [
        "<table><tr><th>BBMEDS Major</th><th>2011</th><th>2012</th><th>2013</th><th>2014</th><th>Total</th></tr><tr><td>HGEN</td><td>2</td><td>5</td><td>8</td><td>7</td><td>22</td></tr><tr><td>MOLP</td><td>1</td><td>6</td><td>4</td><td>6</td><td>17</td></tr><tr><td>MPMC</td><td>0</td><td>0</td><td>2</td><td>0</td><td>2</td></tr></table>\n"
       ]
      }
     ],
     "prompt_number": 188
    },
    {
     "cell_type": "code",
     "collapsed": false,
     "input": [
      "BCOM = deg_major_table('BCOM')\n",
      "HTML(BCOM)\n"
     ],
     "language": "python",
     "metadata": {},
     "outputs": [
      {
       "output_type": "stream",
       "stream": "stdout",
       "text": [
        "['ACCY', 'COML', 'ECMM', 'ECON', 'FINA', 'HRIR', 'INFO', 'MARK', 'MGMT', 'PUBL']\n"
       ]
      },
      {
       "html": [
        "<table><tr><th>BCOM Major</th><th>2011</th><th>2012</th><th>2013</th><th>2014</th><th>Total</th></tr><tr><td>ACCY</td><td>0</td><td>0</td><td>1</td><td>6</td><td>7</td></tr><tr><td>COML</td><td>0</td><td>0</td><td>2</td><td>2</td><td>4</td></tr><tr><td>ECMM</td><td>0</td><td>0</td><td>1</td><td>1</td><td>2</td></tr><tr><td>ECON</td><td>0</td><td>0</td><td>2</td><td>3</td><td>5</td></tr><tr><td>FINA</td><td>0</td><td>0</td><td>2</td><td>0</td><td>2</td></tr><tr><td>HRIR</td><td>0</td><td>0</td><td>1</td><td>6</td><td>7</td></tr><tr><td>INFO</td><td>0</td><td>0</td><td>3</td><td>2</td><td>5</td></tr><tr><td>MARK</td><td>0</td><td>0</td><td>4</td><td>5</td><td>9</td></tr><tr><td>MGMT</td><td>0</td><td>0</td><td>0</td><td>1</td><td>1</td></tr><tr><td>PUBL</td><td>0</td><td>0</td><td>0</td><td>1</td><td>1</td></tr></table>"
       ],
       "metadata": {},
       "output_type": "pyout",
       "prompt_number": 191,
       "text": [
        "<IPython.core.display.HTML at 0x7fe704a31f50>"
       ]
      }
     ],
     "prompt_number": 191
    },
    {
     "cell_type": "code",
     "collapsed": false,
     "input": [
      "print BCOM"
     ],
     "language": "python",
     "metadata": {},
     "outputs": [
      {
       "output_type": "stream",
       "stream": "stdout",
       "text": [
        "<table><tr><th>BCOM Major</th><th>2011</th><th>2012</th><th>2013</th><th>2014</th><th>Total</th></tr><tr><td>ACCY</td><td>0</td><td>0</td><td>1</td><td>6</td><td>7</td></tr><tr><td>COML</td><td>0</td><td>0</td><td>2</td><td>2</td><td>4</td></tr><tr><td>ECMM</td><td>0</td><td>0</td><td>1</td><td>1</td><td>2</td></tr><tr><td>ECON</td><td>0</td><td>0</td><td>2</td><td>3</td><td>5</td></tr><tr><td>FINA</td><td>0</td><td>0</td><td>2</td><td>0</td><td>2</td></tr><tr><td>HRIR</td><td>0</td><td>0</td><td>1</td><td>6</td><td>7</td></tr><tr><td>INFO</td><td>0</td><td>0</td><td>3</td><td>2</td><td>5</td></tr><tr><td>MARK</td><td>0</td><td>0</td><td>4</td><td>5</td><td>9</td></tr><tr><td>MGMT</td><td>0</td><td>0</td><td>0</td><td>1</td><td>1</td></tr><tr><td>PUBL</td><td>0</td><td>0</td><td>0</td><td>1</td><td>1</td></tr></table>\n"
       ]
      }
     ],
     "prompt_number": 192
    },
    {
     "cell_type": "code",
     "collapsed": false,
     "input": [
      "BSC = deg_major_table('BSC')\n",
      "HTML(BSC)\n"
     ],
     "language": "python",
     "metadata": {},
     "outputs": [
      {
       "output_type": "stream",
       "stream": "stdout",
       "text": [
        "['APHS', 'ASIA', 'BIOL', 'BMAR', 'BTEC', 'CBIO', 'CHEM', 'CLAS', 'COMP', 'CRIM', 'DEVE', 'EBIO', 'ECON', 'EDPS', 'EDUC', 'ELCO', 'ENVI', 'FREN', 'GEOG', 'GEOL', 'GPHS', 'MARK', 'MATH', 'MGMT', 'PHIL', 'PHYG', 'PHYS', 'PSYC', 'STAT']\n"
       ]
      },
      {
       "html": [
        "<table><tr><th>BSC Major</th><th>2011</th><th>2012</th><th>2013</th><th>2014</th><th>Total</th></tr><tr><td>APHS</td><td>1</td><td>3</td><td>0</td><td>2</td><td>6</td></tr><tr><td>ASIA</td><td>1</td><td>0</td><td>0</td><td>0</td><td>1</td></tr><tr><td>BIOL</td><td>3</td><td>4</td><td>11</td><td>15</td><td>33</td></tr><tr><td>BMAR</td><td>1</td><td>4</td><td>6</td><td>5</td><td>16</td></tr><tr><td>BTEC</td><td>1</td><td>3</td><td>9</td><td>5</td><td>18</td></tr><tr><td>CBIO</td><td>1</td><td>0</td><td>2</td><td>4</td><td>7</td></tr><tr><td>CHEM</td><td>1</td><td>11</td><td>5</td><td>8</td><td>25</td></tr><tr><td>CLAS</td><td>0</td><td>0</td><td>1</td><td>0</td><td>1</td></tr><tr><td>COMP</td><td>0</td><td>12</td><td>18</td><td>24</td><td>54</td></tr><tr><td>CRIM</td><td>0</td><td>2</td><td>5</td><td>2</td><td>9</td></tr><tr><td>DEVE</td><td>1</td><td>2</td><td>2</td><td>2</td><td>7</td></tr><tr><td>EBIO</td><td>1</td><td>5</td><td>11</td><td>7</td><td>24</td></tr><tr><td>ECON</td><td>0</td><td>0</td><td>0</td><td>1</td><td>1</td></tr><tr><td>EDPS</td><td>0</td><td>0</td><td>1</td><td>0</td><td>1</td></tr><tr><td>EDUC</td><td>0</td><td>1</td><td>0</td><td>1</td><td>2</td></tr><tr><td>ELCO</td><td>1</td><td>3</td><td>3</td><td>3</td><td>10</td></tr><tr><td>ENVI</td><td>0</td><td>1</td><td>2</td><td>4</td><td>7</td></tr><tr><td>FREN</td><td>0</td><td>0</td><td>1</td><td>0</td><td>1</td></tr><tr><td>GEOG</td><td>2</td><td>3</td><td>7</td><td>8</td><td>20</td></tr><tr><td>GEOL</td><td>3</td><td>2</td><td>4</td><td>10</td><td>19</td></tr><tr><td>GPHS</td><td>0</td><td>0</td><td>2</td><td>0</td><td>2</td></tr><tr><td>MARK</td><td>0</td><td>0</td><td>0</td><td>2</td><td>2</td></tr><tr><td>MATH</td><td>2</td><td>3</td><td>6</td><td>7</td><td>18</td></tr><tr><td>MGMT</td><td>0</td><td>0</td><td>0</td><td>1</td><td>1</td></tr><tr><td>PHIL</td><td>0</td><td>0</td><td>1</td><td>0</td><td>1</td></tr><tr><td>PHYG</td><td>0</td><td>0</td><td>0</td><td>1</td><td>1</td></tr><tr><td>PHYS</td><td>0</td><td>4</td><td>2</td><td>3</td><td>9</td></tr><tr><td>PSYC</td><td>4</td><td>21</td><td>23</td><td>29</td><td>77</td></tr><tr><td>STAT</td><td>1</td><td>2</td><td>3</td><td>2</td><td>8</td></tr></table>"
       ],
       "metadata": {},
       "output_type": "pyout",
       "prompt_number": 193,
       "text": [
        "<IPython.core.display.HTML at 0x7fe704a31790>"
       ]
      }
     ],
     "prompt_number": 193
    },
    {
     "cell_type": "code",
     "collapsed": false,
     "input": [
      "print BSC"
     ],
     "language": "python",
     "metadata": {},
     "outputs": [
      {
       "output_type": "stream",
       "stream": "stdout",
       "text": [
        "<table><tr><th>BSC Major</th><th>2011</th><th>2012</th><th>2013</th><th>2014</th><th>Total</th></tr><tr><td>APHS</td><td>1</td><td>3</td><td>0</td><td>2</td><td>6</td></tr><tr><td>ASIA</td><td>1</td><td>0</td><td>0</td><td>0</td><td>1</td></tr><tr><td>BIOL</td><td>3</td><td>4</td><td>11</td><td>15</td><td>33</td></tr><tr><td>BMAR</td><td>1</td><td>4</td><td>6</td><td>5</td><td>16</td></tr><tr><td>BTEC</td><td>1</td><td>3</td><td>9</td><td>5</td><td>18</td></tr><tr><td>CBIO</td><td>1</td><td>0</td><td>2</td><td>4</td><td>7</td></tr><tr><td>CHEM</td><td>1</td><td>11</td><td>5</td><td>8</td><td>25</td></tr><tr><td>CLAS</td><td>0</td><td>0</td><td>1</td><td>0</td><td>1</td></tr><tr><td>COMP</td><td>0</td><td>12</td><td>18</td><td>24</td><td>54</td></tr><tr><td>CRIM</td><td>0</td><td>2</td><td>5</td><td>2</td><td>9</td></tr><tr><td>DEVE</td><td>1</td><td>2</td><td>2</td><td>2</td><td>7</td></tr><tr><td>EBIO</td><td>1</td><td>5</td><td>11</td><td>7</td><td>24</td></tr><tr><td>ECON</td><td>0</td><td>0</td><td>0</td><td>1</td><td>1</td></tr><tr><td>EDPS</td><td>0</td><td>0</td><td>1</td><td>0</td><td>1</td></tr><tr><td>EDUC</td><td>0</td><td>1</td><td>0</td><td>1</td><td>2</td></tr><tr><td>ELCO</td><td>1</td><td>3</td><td>3</td><td>3</td><td>10</td></tr><tr><td>ENVI</td><td>0</td><td>1</td><td>2</td><td>4</td><td>7</td></tr><tr><td>FREN</td><td>0</td><td>0</td><td>1</td><td>0</td><td>1</td></tr><tr><td>GEOG</td><td>2</td><td>3</td><td>7</td><td>8</td><td>20</td></tr><tr><td>GEOL</td><td>3</td><td>2</td><td>4</td><td>10</td><td>19</td></tr><tr><td>GPHS</td><td>0</td><td>0</td><td>2</td><td>0</td><td>2</td></tr><tr><td>MARK</td><td>0</td><td>0</td><td>0</td><td>2</td><td>2</td></tr><tr><td>MATH</td><td>2</td><td>3</td><td>6</td><td>7</td><td>18</td></tr><tr><td>MGMT</td><td>0</td><td>0</td><td>0</td><td>1</td><td>1</td></tr><tr><td>PHIL</td><td>0</td><td>0</td><td>1</td><td>0</td><td>1</td></tr><tr><td>PHYG</td><td>0</td><td>0</td><td>0</td><td>1</td><td>1</td></tr><tr><td>PHYS</td><td>0</td><td>4</td><td>2</td><td>3</td><td>9</td></tr><tr><td>PSYC</td><td>4</td><td>21</td><td>23</td><td>29</td><td>77</td></tr><tr><td>STAT</td><td>1</td><td>2</td><td>3</td><td>2</td><td>8</td></tr></table>\n"
       ]
      }
     ],
     "prompt_number": 194
    },
    {
     "cell_type": "code",
     "collapsed": false,
     "input": [
      "GDSCI = deg_major_table('GDSCI')\n",
      "HTML(GDSCI)\n"
     ],
     "language": "python",
     "metadata": {},
     "outputs": [
      {
       "output_type": "stream",
       "stream": "stdout",
       "text": [
        "['BIOL', 'BMAR', 'BTEC', 'CHEM', 'COMP', 'GEOG', 'GEOL', 'MATH', 'PHYS', 'PSYC']\n"
       ]
      },
      {
       "html": [
        "<table><tr><th>GDSCI Major</th><th>2011</th><th>2012</th><th>2013</th><th>2014</th><th>Total</th></tr><tr><td>BIOL</td><td>0</td><td>0</td><td>0</td><td>1</td><td>1</td></tr><tr><td>BMAR</td><td>0</td><td>0</td><td>0</td><td>1</td><td>1</td></tr><tr><td>BTEC</td><td>0</td><td>0</td><td>1</td><td>0</td><td>1</td></tr><tr><td>CHEM</td><td>0</td><td>0</td><td>0</td><td>1</td><td>1</td></tr><tr><td>COMP</td><td>0</td><td>1</td><td>1</td><td>0</td><td>2</td></tr><tr><td>GEOG</td><td>0</td><td>0</td><td>0</td><td>1</td><td>1</td></tr><tr><td>GEOL</td><td>0</td><td>0</td><td>1</td><td>0</td><td>1</td></tr><tr><td>MATH</td><td>0</td><td>1</td><td>0</td><td>0</td><td>1</td></tr><tr><td>PHYS</td><td>0</td><td>1</td><td>0</td><td>0</td><td>1</td></tr><tr><td>PSYC</td><td>1</td><td>2</td><td>0</td><td>0</td><td>3</td></tr></table>"
       ],
       "metadata": {},
       "output_type": "pyout",
       "prompt_number": 195,
       "text": [
        "<IPython.core.display.HTML at 0x7fe704a31d90>"
       ]
      }
     ],
     "prompt_number": 195
    },
    {
     "cell_type": "code",
     "collapsed": false,
     "input": [
      "print GDSCI"
     ],
     "language": "python",
     "metadata": {},
     "outputs": [
      {
       "output_type": "stream",
       "stream": "stdout",
       "text": [
        "<table><tr><th>GDSCI Major</th><th>2011</th><th>2012</th><th>2013</th><th>2014</th><th>Total</th></tr><tr><td>BIOL</td><td>0</td><td>0</td><td>0</td><td>1</td><td>1</td></tr><tr><td>BMAR</td><td>0</td><td>0</td><td>0</td><td>1</td><td>1</td></tr><tr><td>BTEC</td><td>0</td><td>0</td><td>1</td><td>0</td><td>1</td></tr><tr><td>CHEM</td><td>0</td><td>0</td><td>0</td><td>1</td><td>1</td></tr><tr><td>COMP</td><td>0</td><td>1</td><td>1</td><td>0</td><td>2</td></tr><tr><td>GEOG</td><td>0</td><td>0</td><td>0</td><td>1</td><td>1</td></tr><tr><td>GEOL</td><td>0</td><td>0</td><td>1</td><td>0</td><td>1</td></tr><tr><td>MATH</td><td>0</td><td>1</td><td>0</td><td>0</td><td>1</td></tr><tr><td>PHYS</td><td>0</td><td>1</td><td>0</td><td>0</td><td>1</td></tr><tr><td>PSYC</td><td>1</td><td>2</td><td>0</td><td>0</td><td>3</td></tr></table>\n"
       ]
      }
     ],
     "prompt_number": 196
    },
    {
     "cell_type": "code",
     "collapsed": false,
     "input": [
      "LLB = deg_major_table('LLB')\n",
      "HTML(LLB)\n"
     ],
     "language": "python",
     "metadata": {},
     "outputs": [
      {
       "output_type": "stream",
       "stream": "stdout",
       "text": [
        "['LAWS']\n"
       ]
      },
      {
       "html": [
        "<table><tr><th>LLB Major</th><th>2011</th><th>2012</th><th>2013</th><th>2014</th><th>Total</th></tr><tr><td>LAWS</td><td>4</td><td>2</td><td>6</td><td>8</td><td>20</td></tr></table>"
       ],
       "metadata": {},
       "output_type": "pyout",
       "prompt_number": 197,
       "text": [
        "<IPython.core.display.HTML at 0x7fe704a31250>"
       ]
      }
     ],
     "prompt_number": 197
    },
    {
     "cell_type": "code",
     "collapsed": false,
     "input": [
      "print LLB"
     ],
     "language": "python",
     "metadata": {},
     "outputs": [
      {
       "output_type": "stream",
       "stream": "stdout",
       "text": [
        "<table><tr><th>LLB Major</th><th>2011</th><th>2012</th><th>2013</th><th>2014</th><th>Total</th></tr><tr><td>LAWS</td><td>4</td><td>2</td><td>6</td><td>8</td><td>20</td></tr></table>\n"
       ]
      }
     ],
     "prompt_number": 198
    },
    {
     "cell_type": "heading",
     "level": 2,
     "metadata": {},
     "source": [
      "code for collating data fo Katie (csv). Summarises all data into single table with no gaps."
     ]
    },
    {
     "cell_type": "heading",
     "level": 2,
     "metadata": {},
     "source": [
      "Fields included as follows: year, crse, grd, fees, deg1, maj1, eth, sex"
     ]
    },
    {
     "cell_type": "code",
     "collapsed": false,
     "input": [
      "import csv\n",
      "\n",
      "ofile=open('katie_summary.csv', 'w')\n",
      "writer = csv.writer(ofile, delimiter=',')\n",
      "\n",
      "#header\n",
      "header = ['Year', 'Course #', 'Grade', 'Fees', 'Deg', 'Major', 'Ethnicity', 'Gender']\n",
      "writer.writerow(header)\n",
      "\n",
      "#data\n",
      "for paper in [SCIE201_2011, SCIE201_2012, SCIE211_2013, SCIE211_2014]:\n",
      "    for row in paper[1:]: #excludes header for each\n",
      "        if not row[15].strip() in ['', 'WD']:\n",
      "            line = [row[0].strip()[:-2], row[3].strip(), row[15].strip(), row[17].strip(), row[18].strip(), row[19].strip(), row[24].strip(), row[25].strip()]\n",
      "            writer.writerow(line)\n",
      "\n",
      "ofile.close()"
     ],
     "language": "python",
     "metadata": {},
     "outputs": [],
     "prompt_number": 144
    },
    {
     "cell_type": "markdown",
     "metadata": {},
     "source": [
      "0 Year\n",
      "3 Crse\n",
      "15 Grd\n",
      "17 Fees\n",
      "18 Deg 1\n",
      "19 Maj 1\n",
      "24 Ethnicity\n",
      "25 Sex\n"
     ]
    },
    {
     "cell_type": "code",
     "collapsed": false,
     "input": [
      "%%bash\n",
      "ls"
     ],
     "language": "python",
     "metadata": {},
     "outputs": [
      {
       "output_type": "stream",
       "stream": "stdout",
       "text": [
        "gc_2014.AF.SCIE211_fullgc_2015-01-26-12-54-44.csv\n",
        "katie_summary.csv\n",
        "SCIE211 grades.ipynb\n",
        "SR_data\n",
        "SR_data.zip\n"
       ]
      }
     ],
     "prompt_number": 142
    },
    {
     "cell_type": "code",
     "collapsed": false,
     "input": [],
     "language": "python",
     "metadata": {},
     "outputs": []
    }
   ],
   "metadata": {}
  }
 ]
}
