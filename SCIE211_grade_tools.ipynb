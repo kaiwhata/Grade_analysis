{
 "metadata": {
  "name": "",
  "signature": "sha256:a916e7aa6531922b8cc03a97244da686e158ce5c5b57acb76e6d67a361d00741"
 },
 "nbformat": 3,
 "nbformat_minor": 0,
 "worksheets": [
  {
   "cells": [
    {
     "cell_type": "code",
     "collapsed": false,
     "input": [
      "%%bash\n",
      "ls"
     ],
     "language": "python",
     "metadata": {},
     "outputs": [
      {
       "output_type": "stream",
       "stream": "stdout",
       "text": [
        "gc_2014.AF.SCIE211_fullgc_2015-01-26-12-54-44.csv\n",
        "SCIE211 grades.ipynb\n"
       ]
      }
     ],
     "prompt_number": 1
    },
    {
     "cell_type": "code",
     "collapsed": false,
     "input": [
      "ifile = open('gc_2014.AF.SCIE211_fullgc_2015-01-26-12-54-44.csv', 'r')\n",
      "\n",
      "data = []\n",
      "for line in ifile.readlines():\n",
      "    line=line.strip()\n",
      "    #line=line[1:-1] \n",
      "    line=line.split('\",\"')\n",
      "    row = []\n",
      "    for item in line:\n",
      "        item=item.strip('\"')\n",
      "        row.append(item)\n",
      "    data.append(row)\n",
      "    #data.append(line)\n",
      "ifile.close()\n"
     ],
     "language": "python",
     "metadata": {},
     "outputs": [],
     "prompt_number": 46
    },
    {
     "cell_type": "code",
     "collapsed": false,
     "input": [
      "#columns\n",
      "#name, name, username, studentID, date\n",
      "\n",
      "#print header data:\n",
      "i=1\n",
      "for item in data[0]:\n",
      "   print i, item\n",
      "   i+=1\n",
      "print"
     ],
     "language": "python",
     "metadata": {},
     "outputs": [
      {
       "output_type": "stream",
       "stream": "stdout",
       "text": [
        "1 \ufeff\"Last Name\n",
        "2 First Name\n",
        "3 Username\n",
        "4 Student ID\n",
        "5 Last Access\n",
        "6 Availability\n",
        "7 Learning Contract [Total Pts: 1] |272398\n",
        "8 Module 1 Quiz: Science - What, Why and How [Total Pts: 16] |272275\n",
        "9 Module 1 Reflection Piece [Total Pts: 100] |281160\n",
        "10 Module 2 Quiz: Genes &amp; Gene Therapy [Total Pts: 33] |272142\n",
        "11 Module 2 Reflection Piece [Total Pts: 100] |281612\n",
        "12 Module 3 Quiz: Climate Change Perspectives [Total Pts: 30] |281710\n",
        "13 Module 3 Reflection Piece [Total Pts: 100] |281613\n",
        "14 Module 4 Quiz: Living With Nature [Total Pts: 30] |282513\n",
        "15 Module 4 Reflection Piece [Total Pts: 100] |281614\n",
        "16 Module 5 Quiz: New Technologies [Total Pts: 30] |283896\n",
        "17 Module 5 Reflection Piece [Total Pts: 100] |281615\n",
        "18 Structured Assignment 1 [Total Pts: 44] |281709\n",
        "19 Structured Assignment 2 [Total Pts: 44] |283359\n",
        "20 Module 2 Assignment [Total Pts: 0] |281707\n",
        "21 Module 3 Assignment [Total Pts: 0] |281708\n",
        "22 Module 4 Assignment [Total Pts: 0] |282976\n",
        "23 Module 5 Assignment [Total Pts: 0] |284225\n",
        "24 Final Essay - Module Two [Total Pts: 100] |281759\n",
        "25 Final Essay - Module Three [Total Pts: 100] |272210\n",
        "26 Final Essay - Module Four [Total Pts: 0] |272211\n",
        "27 Final Essay - Module Five [Total Pts: 0] |272212\n",
        "28 Library Quiz 1: Ethical Use of Information &amp; Plagiarism [Total Pts: 42] |281350\n",
        "29 Library Quiz 2: Get it Right!! Plan-Search-Find-Write and Cite Right [Total Pts: 44] |281351\n",
        "30 Library Quiz 3: Thinking critically about information and evaluating information sources [Total Pts: 54] |281352\n",
        "31 Module 5 Quiz: Nature's Patterns and Ingredients(1) [Total Pts: 86] |282692\n",
        "32 Test Total (Weighted) [Total Pts: up to 29.11111] |284229\n",
        "33 Library quiz total [Total Pts: up to 46] |284230\",,\n",
        "\n"
       ]
      }
     ],
     "prompt_number": 47
    },
    {
     "cell_type": "code",
     "collapsed": false,
     "input": [
      "#print first row of student data\n",
      "print data[1]"
     ],
     "language": "python",
     "metadata": {},
     "outputs": [
      {
       "output_type": "stream",
       "stream": "stdout",
       "text": [
        "['Ahmad', \"Nurul 'Ain\", 'ahmadnuru', '300286695', '2015-01-20 16:23:11', 'Yes', '1.00', '9.00', 'B', '24.00', 'B', '28.00', 'B', '19.00', '', '', '', 'B-', '', 'Needs Grading(0.00)', '', '', '', '', '', '', '', '36.00', '', '', '', '73.58%', '85.71%\",,']\n"
       ]
      }
     ],
     "prompt_number": 48
    },
    {
     "cell_type": "heading",
     "level": 1,
     "metadata": {},
     "source": [
      "Grade Histograms"
     ]
    },
    {
     "cell_type": "code",
     "collapsed": false,
     "input": [
      "#define method to return histogram data for student info\n",
      "def hist_grade(assessment_name):\n",
      "    column = data[0].index(assessment_name)\n",
      "    \n",
      "    out = []\n",
      "    for row in data[1:]:\n",
      "        if not row[column]=='':\n",
      "            try:\n",
      "                out.append(float(row[column]))\n",
      "            except:\n",
      "                print row[column]\n",
      "        else:\n",
      "            print 'skip'\n",
      "            #out.append('none')\n",
      "    return out"
     ],
     "language": "python",
     "metadata": {},
     "outputs": [],
     "prompt_number": 52
    },
    {
     "cell_type": "code",
     "collapsed": false,
     "input": [
      "def hist_assessment(assessment_name, max_grade):\n",
      "    a = hist_grade(assessment_name)\n",
      "    #print sorted(a)\n",
      "    print\n",
      "    print 'Min mark: '+str(min(a))\n",
      "    print 'Max mark: '+str(max(a))\n",
      "\n",
      "    figure(1, figsize = (12,6) )\n",
      "    title(assessment_name, fontsize = 15)\n",
      "    b = hist(a, bins = range(max_grade+2))\n",
      "    n = len(a)\n",
      "    \n",
      "    xlabel('Score', fontsize = 15)\n",
      "    xticks([i+0.5 for i in range(max_grade+2)],[i for i in range(max_grade+2)] )\n",
      "    ylabel('Number of Grades (n = %s)' % n, fontsize = 15)\n",
      "    xlim(0,max_grade+1)\n",
      "\n",
      "    #for x in b:\n",
      "    #print x\n",
      "    return b"
     ],
     "language": "python",
     "metadata": {},
     "outputs": [],
     "prompt_number": 58
    },
    {
     "cell_type": "code",
     "collapsed": false,
     "input": [
      "hist_assessment('Module 1 Quiz: Science - What, Why and How [Total Pts: 16] |272275', 16)"
     ],
     "language": "python",
     "metadata": {},
     "outputs": [
      {
       "output_type": "stream",
       "stream": "stdout",
       "text": [
        "skip\n",
        "skip\n",
        "skip\n",
        "skip\n",
        "skip\n",
        "skip\n",
        "Needs Grading(0.00)\n",
        "skip\n",
        "skip\n",
        "skip\n",
        "skip\n",
        "\n",
        "Min mark: 0.0\n",
        "Max mark: 16.0\n"
       ]
      },
      {
       "metadata": {},
       "output_type": "pyout",
       "prompt_number": 59,
       "text": [
        "(array([  1.,   0.,   0.,   0.,   1.,   1.,   1.,   3.,   3.,   9.,  10.,\n",
        "         15.,  21.,  19.,  18.,   6.,   2.]),\n",
        " array([ 0,  1,  2,  3,  4,  5,  6,  7,  8,  9, 10, 11, 12, 13, 14, 15, 16,\n",
        "        17]),\n",
        " <a list of 17 Patch objects>)"
       ]
      },
      {
       "metadata": {},
       "output_type": "display_data",
       "png": "[encoded data removed]",
       "text": [
        "<matplotlib.figure.Figure at 0x7fd4516c84d0>"
       ]
      }
     ],
     "prompt_number": 59
    },
    {
     "cell_type": "heading",
     "level": 1,
     "metadata": {},
     "source": [
      "Gender Split"
     ]
    },
    {
     "cell_type": "code",
     "collapsed": false,
     "input": [],
     "language": "python",
     "metadata": {},
     "outputs": []
    },
    {
     "cell_type": "heading",
     "level": 1,
     "metadata": {},
     "source": [
      "Ethnicity Split"
     ]
    },
    {
     "cell_type": "code",
     "collapsed": false,
     "input": [],
     "language": "python",
     "metadata": {},
     "outputs": []
    }
   ],
   "metadata": {}
  }
 ]
}
