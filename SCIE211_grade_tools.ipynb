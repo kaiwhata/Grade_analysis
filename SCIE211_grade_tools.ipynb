{
 "metadata": {
  "name": "",
  "signature": "sha256:912467bb43071e33af481e5c88ad42ffa2af9b6f0ed92d4b29671704552f683a"
 },
 "nbformat": 3,
 "nbformat_minor": 0,
 "worksheets": [
  {
   "cells": [
    {
     "cell_type": "code",
     "collapsed": false,
     "input": [
      "%%bash\n",
      "ls"
     ],
     "language": "python",
     "metadata": {},
     "outputs": [
      {
       "output_type": "stream",
       "stream": "stdout",
       "text": [
        "gc_2014.AF.SCIE211_fullgc_2015-01-26-12-54-44.csv\n",
        "SCIE211 grades.ipynb\n"
       ]
      }
     ],
     "prompt_number": 1
    },
    {
     "cell_type": "code",
     "collapsed": false,
     "input": [
      "ifile = open('gc_2014.AF.SCIE211_fullgc_2015-01-26-12-54-44.csv', 'r')\n",
      "\n",
      "data = []\n",
      "for line in ifile.readlines():\n",
      "    line=line.strip()\n",
      "    line=line.split('\",\"')\n",
      "    row = []\n",
      "    for item in line:\n",
      "        item=item.strip('\"')\n",
      "        row.append(item)\n",
      "    data.append(row)\n",
      "ifile.close()\n"
     ],
     "language": "python",
     "metadata": {},
     "outputs": [],
     "prompt_number": 46
    },
    {
     "cell_type": "code",
     "collapsed": false,
     "input": [
      "#columns\n",
      "#name, name, username, studentID, date\n",
      "\n",
      "#print header data:\n",
      "i=1\n",
      "for item in data[0]:\n",
      "   print i, item\n",
      "   i+=1\n",
      "print"
     ],
     "language": "python",
     "metadata": {},
     "outputs": [
      {
       "output_type": "stream",
       "stream": "stdout",
       "text": [
        "1 \ufeff\"Last Name\n",
        "2 First Name\n",
        "3 Username\n",
        "4 Student ID\n",
        "5 Last Access\n",
        "6 Availability\n",
        "7 Learning Contract [Total Pts: 1] |272398\n",
        "8 Module 1 Quiz: Science - What, Why and How [Total Pts: 16] |272275\n",
        "9 Module 1 Reflection Piece [Total Pts: 100] |281160\n",
        "10 Module 2 Quiz: Genes &amp; Gene Therapy [Total Pts: 33] |272142\n",
        "11 Module 2 Reflection Piece [Total Pts: 100] |281612\n",
        "12 Module 3 Quiz: Climate Change Perspectives [Total Pts: 30] |281710\n",
        "13 Module 3 Reflection Piece [Total Pts: 100] |281613\n",
        "14 Module 4 Quiz: Living With Nature [Total Pts: 30] |282513\n",
        "15 Module 4 Reflection Piece [Total Pts: 100] |281614\n",
        "16 Module 5 Quiz: New Technologies [Total Pts: 30] |283896\n",
        "17 Module 5 Reflection Piece [Total Pts: 100] |281615\n",
        "18 Structured Assignment 1 [Total Pts: 44] |281709\n",
        "19 Structured Assignment 2 [Total Pts: 44] |283359\n",
        "20 Module 2 Assignment [Total Pts: 0] |281707\n",
        "21 Module 3 Assignment [Total Pts: 0] |281708\n",
        "22 Module 4 Assignment [Total Pts: 0] |282976\n",
        "23 Module 5 Assignment [Total Pts: 0] |284225\n",
        "24 Final Essay - Module Two [Total Pts: 100] |281759\n",
        "25 Final Essay - Module Three [Total Pts: 100] |272210\n",
        "26 Final Essay - Module Four [Total Pts: 0] |272211\n",
        "27 Final Essay - Module Five [Total Pts: 0] |272212\n",
        "28 Library Quiz 1: Ethical Use of Information &amp; Plagiarism [Total Pts: 42] |281350\n",
        "29 Library Quiz 2: Get it Right!! Plan-Search-Find-Write and Cite Right [Total Pts: 44] |281351\n",
        "30 Library Quiz 3: Thinking critically about information and evaluating information sources [Total Pts: 54] |281352\n",
        "31 Module 5 Quiz: Nature's Patterns and Ingredients(1) [Total Pts: 86] |282692\n",
        "32 Test Total (Weighted) [Total Pts: up to 29.11111] |284229\n",
        "33 Library quiz total [Total Pts: up to 46] |284230\",,\n",
        "\n"
       ]
      }
     ],
     "prompt_number": 47
    },
    {
     "cell_type": "heading",
     "level": 1,
     "metadata": {},
     "source": [
      "Grade Histograms"
     ]
    },
    {
     "cell_type": "code",
     "collapsed": false,
     "input": [
      "#define method to return histogram data for student info\n",
      "def hist_grade(assessment_name):\n",
      "    column = data[0].index(assessment_name)\n",
      "    \n",
      "    out = []\n",
      "    for row in data[1:]:\n",
      "        if not row[column]=='':\n",
      "            try:\n",
      "                out.append(float(row[column]))\n",
      "            except:\n",
      "                print row[column]\n",
      "        else:\n",
      "            print 'skip'\n",
      "            #out.append('none')\n",
      "    return out"
     ],
     "language": "python",
     "metadata": {},
     "outputs": [],
     "prompt_number": 52
    },
    {
     "cell_type": "code",
     "collapsed": false,
     "input": [
      "def hist_assessment(assessment_name, max_grade):\n",
      "    a = hist_grade(assessment_name)\n",
      "    #print sorted(a)\n",
      "    print\n",
      "    print 'Min mark: '+str(min(a))\n",
      "    print 'Max mark: '+str(max(a))\n",
      "\n",
      "    figure(1, figsize = (12,6) )\n",
      "    title(assessment_name, fontsize = 15)\n",
      "    b = hist(a, bins = range(max_grade+2))\n",
      "    n = len(a)\n",
      "    \n",
      "    xlabel('Score', fontsize = 15)\n",
      "    xticks([i+0.5 for i in range(max_grade+2)],[i for i in range(max_grade+2)] )\n",
      "    ylabel('Number of Grades (n = %s)' % n, fontsize = 15)\n",
      "    xlim(0,max_grade+1)\n",
      "\n",
      "    #for x in b:\n",
      "    #print x\n",
      "    return b"
     ],
     "language": "python",
     "metadata": {},
     "outputs": [],
     "prompt_number": 58
    },
    {
     "cell_type": "code",
     "collapsed": false,
     "input": [
      "hist_assessment('Module 1 Quiz: Science - What, Why and How [Total Pts: 16] |272275', 16)"
     ],
     "language": "python",
     "metadata": {},
     "outputs": [
      {
       "output_type": "stream",
       "stream": "stdout",
       "text": [
        "skip\n",
        "skip\n",
        "skip\n",
        "skip\n",
        "skip\n",
        "skip\n",
        "Needs Grading(0.00)\n",
        "skip\n",
        "skip\n",
        "skip\n",
        "skip\n",
        "\n",
        "Min mark: 0.0\n",
        "Max mark: 16.0\n"
       ]
      },
      {
       "metadata": {},
       "output_type": "pyout",
       "prompt_number": 59,
       "text": [
        "(array([  1.,   0.,   0.,   0.,   1.,   1.,   1.,   3.,   3.,   9.,  10.,\n",
        "         15.,  21.,  19.,  18.,   6.,   2.]),\n",
        " array([ 0,  1,  2,  3,  4,  5,  6,  7,  8,  9, 10, 11, 12, 13, 14, 15, 16,\n",
        "        17]),\n",
        " <a list of 17 Patch objects>)"
       ]
      },
      {
       "metadata": {},
       "output_type": "display_data",
       "png": "[encoded data removed]",
       "text": [
        "<matplotlib.figure.Figure at 0x7fd4516c84d0>"
       ]
      }
     ],
     "prompt_number": 59
    },
    {
     "cell_type": "heading",
     "level": 1,
     "metadata": {},
     "source": [
      "Paper grade data"
     ]
    },
    {
     "cell_type": "code",
     "collapsed": false,
     "input": [
      "%%bash\n",
      "ls SR_data/"
     ],
     "language": "python",
     "metadata": {},
     "outputs": [
      {
       "output_type": "stream",
       "stream": "stdout",
       "text": [
        "201301_SCIE_211_27Jan2015.csv\n",
        "201401_SCIE_211_27Jan2015.csv\n",
        "201501_SCIE_211_27Jan2015.csv\n"
       ]
      }
     ],
     "prompt_number": 62
    },
    {
     "cell_type": "code",
     "collapsed": false,
     "input": [
      "def loadin(filename):\n",
      "    ifile = open(filename, 'r')\n",
      "\n",
      "    data = []\n",
      "    for line in ifile.readlines():\n",
      "        line=line.strip()\n",
      "        line=line.split(',')\n",
      "        row = []\n",
      "        for item in line:\n",
      "            item=item.strip('\"')\n",
      "            row.append(item)\n",
      "        data.append(row)\n",
      "        #data.append(line)\n",
      "    ifile.close()\n",
      "    return data"
     ],
     "language": "python",
     "metadata": {},
     "outputs": [],
     "prompt_number": 71
    },
    {
     "cell_type": "code",
     "collapsed": false,
     "input": [
      "SCIE211_2013 = loadin('SR_data/201301_SCIE_211_27Jan2015.csv')\n",
      "SCIE211_2014 = loadin('SR_data/201401_SCIE_211_27Jan2015.csv') #incomplete paper\n",
      "SCIE211_2015 = loadin('SR_data/201501_SCIE_211_27Jan2015.csv') #paper not yet started"
     ],
     "language": "python",
     "metadata": {},
     "outputs": [],
     "prompt_number": 72
    },
    {
     "cell_type": "heading",
     "level": 1,
     "metadata": {},
     "source": [
      "Columns"
     ]
    },
    {
     "cell_type": "code",
     "collapsed": false,
     "input": [
      "for i in range(len(SCIE211_2013[0])):\n",
      "    print i, SCIE211_2013[0][i]"
     ],
     "language": "python",
     "metadata": {},
     "outputs": [
      {
       "output_type": "stream",
       "stream": "stdout",
       "text": [
        "0 Year\n",
        "1 CRN\n",
        "2 Subj\n",
        "3 Crse\n",
        "4 PTrm\n",
        "5 Strm\n",
        "6 Student ID\n",
        "7 Last Name\n",
        "8 First Name\n",
        "9 Middle Name\n",
        "10 Preferred Name\n",
        "11 Enrl\n",
        "12 Reg\n",
        "13 Seq\n",
        "14 Reg Dte\n",
        "15 Grd\n",
        "16 Resd Cde\n",
        "17 Fees\n",
        "18 Deg 1\n",
        "19 Maj 1\n",
        "20 Maj 2\n",
        "21 Deg 2\n",
        "22 Maj 1\n",
        "23 Maj 2\n",
        "24 Ethnicity\n",
        "25 Sex\n",
        "26 E-mail\n",
        "27 Addr1\n",
        "28 Addr2\n",
        "29 Addr3\n",
        "30 Addr4\n",
        "31 Postcode\n",
        "32 Country\n",
        "33 TE Phone\n",
        "34 MO Phone\n",
        "35 1st Instrument\n",
        "36 2nd Instrument\n"
       ]
      }
     ],
     "prompt_number": 73
    },
    {
     "cell_type": "code",
     "collapsed": false,
     "input": [
      "def paper_hist(data):\n",
      "    grades = ['A+', 'A','A-', 'B+', 'B', 'B-', 'C+', 'C', 'C-', 'D', 'E', 'K' ]\n",
      "    ex = 0\n",
      "    h = []\n",
      "    for row in data[1:]:\n",
      "        if row[15].strip() in grades:\n",
      "            h.append(row[15].strip()) #grade data\n",
      "        else:\n",
      "            print 'skip '+str(row[15])\n",
      "            ex+=1\n",
      "    print\n",
      "    print 'Excluded: '+str(ex)\n",
      "    print \n",
      "    \n",
      "    #bar graph\n",
      "    figure(1, figsize = (12,6) )\n",
      "    title(str(data[1][2])+str(data[1][3])+' '+str(data[1][0]), fontsize = 15)\n",
      "    \n",
      "    b = []\n",
      "    for grade in grades:\n",
      "        b.append(h.count(grade))\n",
      "    \n",
      "    bar([i for i in range(len(grades))],b , width = 1.0) #x, y, width\n",
      "    \n",
      "    n = len(h)\n",
      "    \n",
      "    #print h\n",
      "    \n",
      "    xlabel('Grade', fontsize = 15)\n",
      "    xticks([i+0.5 for i in range(len(grades)+2)],grades)\n",
      "    ylabel('Number of Grades (n = %s)' % n, fontsize = 15)\n",
      "    xlim(0,len(grades))\n",
      "    \n",
      "    failed=passed=0\n",
      "    for k in range(len(grades)):\n",
      "        print grades[k], b[k]\n",
      "        if not grades[k] in ['D', 'E', 'K']:\n",
      "            passed=passed+b[k]\n",
      "        else:\n",
      "            failed=failed+b[k]\n",
      "    print\n",
      "    print 'Passed: '+str(passed)\n",
      "    print 'Failed: '+str(failed)"
     ],
     "language": "python",
     "metadata": {},
     "outputs": [],
     "prompt_number": 110
    },
    {
     "cell_type": "code",
     "collapsed": false,
     "input": [
      "paper_hist(SCIE211_2013)"
     ],
     "language": "python",
     "metadata": {},
     "outputs": [
      {
       "output_type": "stream",
       "stream": "stdout",
       "text": [
        "skip \n",
        "skip \n",
        "skip \n",
        "skip WD\n",
        "skip \n",
        "skip WD\n",
        "skip WD\n",
        "skip WD\n",
        "skip \n",
        "skip \n",
        "skip \n",
        "skip \n",
        "skip \n",
        "skip WD\n",
        "skip \n",
        "skip \n",
        "skip U\n",
        "skip \n",
        "skip \n",
        "skip WD\n",
        "\n",
        "Excluded: 20\n",
        "\n",
        "A+"
       ]
      },
      {
       "output_type": "stream",
       "stream": "stdout",
       "text": [
        " 17\n",
        "A 16\n",
        "A- 25\n",
        "B+ 28\n",
        "B 27\n",
        "B- 19\n",
        "C+ 3\n",
        "C 5\n",
        "C- 0\n",
        "D 7\n",
        "E 32\n",
        "K 0\n",
        "\n",
        "Passed: 140\n",
        "Failed: 39\n"
       ]
      },
      {
       "metadata": {},
       "output_type": "display_data",
       "png": "[encoded data removed]",
       "text": [
        "<matplotlib.figure.Figure at 0x7fd449f1c090>"
       ]
      }
     ],
     "prompt_number": 111
    },
    {
     "cell_type": "heading",
     "level": 1,
     "metadata": {},
     "source": [
      "following 2 papers have yet to be completed"
     ]
    },
    {
     "cell_type": "code",
     "collapsed": true,
     "input": [
      "#paper_hist(SCIE211_2014)"
     ],
     "language": "python",
     "metadata": {},
     "outputs": [],
     "prompt_number": 146
    },
    {
     "cell_type": "code",
     "collapsed": true,
     "input": [
      "#paper_hist(SCIE211_2015)"
     ],
     "language": "python",
     "metadata": {},
     "outputs": [],
     "prompt_number": 147
    },
    {
     "cell_type": "heading",
     "level": 1,
     "metadata": {},
     "source": [
      "Total Enrolments"
     ]
    },
    {
     "cell_type": "code",
     "collapsed": false,
     "input": [
      "def paper_enrolments(data):\n",
      "    grades = ['A+', 'A','A-', 'B+', 'B', 'B-', 'C+', 'C', 'C-', 'D', 'E', 'K' ]\n",
      "    ex = 0\n",
      "    wd = 0\n",
      "    enrolled = 0\n",
      "    for row in data[1:]:\n",
      "        if row[15].strip() in grades:\n",
      "            enrolled=enrolled+1\n",
      "        elif row[15].strip() == 'WD':\n",
      "            wd=wd+1\n",
      "        else:\n",
      "            ex+=1\n",
      "    print 'Enrolled: '+str(enrolled)+' (Excluding withdrawn)'\n",
      "    print 'Withdrawn: '+str(wd)\n",
      "    print 'Excluded: '+str(ex)+' (No grade data)'"
     ],
     "language": "python",
     "metadata": {},
     "outputs": [],
     "prompt_number": 120
    },
    {
     "cell_type": "code",
     "collapsed": false,
     "input": [
      "def paper_enrolment_status(data):\n",
      "    #includes withdrawn and no grade students\n",
      "    statuses = []\n",
      "    stat_list = []\n",
      "    for row in data[1:]:\n",
      "        if not row[12].strip() in statuses:\n",
      "            statuses.append(row[12].strip())\n",
      "        stat_list.append(row[12].strip())\n",
      "\n",
      "    for status in statuses:\n",
      "        print status, stat_list.count(status)"
     ],
     "language": "python",
     "metadata": {},
     "outputs": []
    },
    {
     "cell_type": "code",
     "collapsed": false,
     "input": [
      "paper_enrolments(SCIE211_2013)"
     ],
     "language": "python",
     "metadata": {},
     "outputs": [
      {
       "output_type": "stream",
       "stream": "stdout",
       "text": [
        "Enrolled: 179 (Excluding withdrawn)\n",
        "Withdrawn: 6\n",
        "Excluded: 14 (No grade data)\n"
       ]
      }
     ],
     "prompt_number": 121
    },
    {
     "cell_type": "code",
     "collapsed": false,
     "input": [
      "paper_enrolment_status(SCIE211_2013)"
     ],
     "language": "python",
     "metadata": {},
     "outputs": [
      {
       "output_type": "stream",
       "stream": "stdout",
       "text": [
        "DE 1\n",
        "RE 132\n",
        "DD 9\n",
        "RW 47\n",
        "DN 6\n",
        "NS 1\n",
        "DA 1\n",
        "PC 1\n",
        "AW 1\n"
       ]
      }
     ],
     "prompt_number": 134
    },
    {
     "cell_type": "code",
     "collapsed": false,
     "input": [
      "paper_enrolments(SCIE211_2014)"
     ],
     "language": "python",
     "metadata": {},
     "outputs": [
      {
       "output_type": "stream",
       "stream": "stdout",
       "text": [
        "Enrolled: 0 (Excluding withdrawn)\n",
        "Withdrawn: 2\n",
        "Excluded: 222 (No grade data)\n"
       ]
      }
     ],
     "prompt_number": 135
    },
    {
     "cell_type": "code",
     "collapsed": false,
     "input": [
      "paper_enrolment_status(SCIE211_2014)"
     ],
     "language": "python",
     "metadata": {},
     "outputs": [
      {
       "output_type": "stream",
       "stream": "stdout",
       "text": [
        "RE 145\n",
        "RW 55\n",
        "DD 12\n",
        "AW 8\n",
        "NS 1\n",
        "DE 1\n",
        "DN 2\n"
       ]
      }
     ],
     "prompt_number": 136
    },
    {
     "cell_type": "heading",
     "level": 1,
     "metadata": {},
     "source": [
      "Gender Split"
     ]
    },
    {
     "cell_type": "code",
     "collapsed": false,
     "input": [
      "def gender_fees(data):\n",
      "    #includes withdrawn and no-grade students\n",
      "    grades = ['A+', 'A','A-', 'B+', 'B', 'B-', 'C+', 'C', 'C-', 'D', 'E', 'K' ]\n",
      "    m=f=0\n",
      "    d=i=0\n",
      "    ex = wd = 0\n",
      "    for row in data[1:]:\n",
      "        #if row[15].strip() in grades:\n",
      "        if row[17]=='Dom':\n",
      "            d+=1\n",
      "        elif row[17]=='Intl':\n",
      "            i+=1\n",
      "        else:\n",
      "            print 'Fees Unknown'\n",
      "        if row[25]=='M':\n",
      "            m+=1\n",
      "        elif row[25]=='F':\n",
      "            f+=1\n",
      "        else:\n",
      "            print 'Gender Unknown'\n",
      "        #elif row[15].strip() == 'WD':\n",
      "            #wd=wd+1\n",
      "        #else:\n",
      "            #ex+=1\n",
      "    print 'Male :'+str(m)\n",
      "    print 'Female :'+str(f)\n",
      "    print\n",
      "    print 'Domestic :'+str(d)\n",
      "    print 'International :'+str(i)\n",
      "    print\n",
      "    #print '(Doesnt include the following)'\n",
      "    #print 'Withdrawn: '+str(wd)\n",
      "    #print 'Excluded: '+str(ex)+' (No grade data)'"
     ],
     "language": "python",
     "metadata": {},
     "outputs": [],
     "prompt_number": 140
    },
    {
     "cell_type": "code",
     "collapsed": false,
     "input": [
      "gender_fees(SCIE211_2013)"
     ],
     "language": "python",
     "metadata": {},
     "outputs": [
      {
       "output_type": "stream",
       "stream": "stdout",
       "text": [
        "Male :103\n",
        "Female :96\n",
        "\n",
        "Domestic :184\n",
        "International :15\n",
        "\n"
       ]
      }
     ],
     "prompt_number": 141
    },
    {
     "cell_type": "code",
     "collapsed": false,
     "input": [
      "gender_fees(SCIE211_2014)"
     ],
     "language": "python",
     "metadata": {},
     "outputs": [
      {
       "output_type": "stream",
       "stream": "stdout",
       "text": [
        "Male :106\n",
        "Female :118\n",
        "\n",
        "Domestic :202\n",
        "International :22\n",
        "\n"
       ]
      }
     ],
     "prompt_number": 142
    },
    {
     "cell_type": "heading",
     "level": 1,
     "metadata": {},
     "source": [
      "Ethnicity Split"
     ]
    },
    {
     "cell_type": "code",
     "collapsed": false,
     "input": [
      "def paper_ethnicities(data):\n",
      "    #includes withdrawn and no-grade students\n",
      "    ethnicities = []\n",
      "    eth_list = []\n",
      "    for row in data[1:]:\n",
      "        if not row[24].strip() in ethnicities:\n",
      "            ethnicities.append(row[24].strip())\n",
      "        eth_list.append(row[24].strip())\n",
      "\n",
      "    for ethnicity in ethnicities:\n",
      "        print ethnicity, eth_list.count(ethnicity)"
     ],
     "language": "python",
     "metadata": {},
     "outputs": [],
     "prompt_number": 143
    },
    {
     "cell_type": "code",
     "collapsed": false,
     "input": [
      "paper_ethnicities(SCIE211_2013)"
     ],
     "language": "python",
     "metadata": {},
     "outputs": [
      {
       "output_type": "stream",
       "stream": "stdout",
       "text": [
        "Middle Eastern 3\n",
        "Other 10\n",
        "Cook Island Maori 2\n",
        "New Zealand European/Pakeha 109\n",
        "Other Southeast Asian 5\n",
        "Other Asian 2\n",
        "Filipino 2\n",
        "African 3\n",
        "New Zealand Maori 19\n",
        "Indian 6\n",
        "Other European 7\n",
        "British/Irish 9\n",
        "Japanese 1\n",
        "Other Pacific Peoples 2\n",
        "Dutch 2\n",
        "Chinese 5\n",
        "Samoan 4\n",
        "German 1\n",
        "Australian 2\n",
        "Vietnamese 2\n",
        "Sri Lankan 2\n",
        "Fijian 1\n"
       ]
      }
     ],
     "prompt_number": 159
    },
    {
     "cell_type": "code",
     "collapsed": false,
     "input": [
      "paper_ethnicities(SCIE211_2014)"
     ],
     "language": "python",
     "metadata": {},
     "outputs": [
      {
       "output_type": "stream",
       "stream": "stdout",
       "text": [
        "Other Asian 11\n",
        "Other Southeast Asian 2\n",
        "African 5\n",
        "New Zealand Maori 19\n",
        "New Zealand European/Pakeha 123\n",
        "British/Irish 15\n",
        "Other 5\n",
        "Indian 4\n",
        "Filipino 2\n",
        "Samoan 6\n",
        "Sri Lankan 2\n",
        "Dutch 4\n",
        "Middle Eastern 2\n",
        "Chinese 5\n",
        "Cambodian 1\n",
        "Australian 3\n",
        "Polish 1\n",
        "Other European 4\n",
        "Cook Island Maori 1\n",
        "Greek 1\n",
        "Latin American 5\n",
        "German 1\n",
        "Fijian 1\n",
        "Tongan 1\n"
       ]
      }
     ],
     "prompt_number": 145
    },
    {
     "cell_type": "code",
     "collapsed": false,
     "input": [],
     "language": "python",
     "metadata": {},
     "outputs": []
    },
    {
     "cell_type": "heading",
     "level": 1,
     "metadata": {},
     "source": [
      "Prior to 2013 there was a paper known as SCIE201 with similar goals. "
     ]
    },
    {
     "cell_type": "code",
     "collapsed": false,
     "input": [
      "%%bash\n",
      "ls SR_data/"
     ],
     "language": "python",
     "metadata": {},
     "outputs": [
      {
       "output_type": "stream",
       "stream": "stdout",
       "text": [
        "201101_SCIE_201_27Jan2015.csv\n",
        "201201_SCIE_201_27Jan2015.csv\n",
        "201301_SCIE_211_27Jan2015.csv\n",
        "201401_SCIE_211_27Jan2015.csv\n",
        "201501_SCIE_211_27Jan2015.csv\n"
       ]
      }
     ],
     "prompt_number": 165
    },
    {
     "cell_type": "code",
     "collapsed": false,
     "input": [
      "SCIE201_2012 = loadin('SR_data/201201_SCIE_201_27Jan2015.csv')\n",
      "SCIE201_2011 = loadin('SR_data/201101_SCIE_201_27Jan2015.csv')\n",
      "#SCIE201_2010 = loadin('SR_data/201001_SCIE_201_27Jan2015.csv') - these are different papers\n",
      "#SCIE201_2009 = loadin('SR_data/200901_SCIE_201_27Jan2015.csv') - these are different papers"
     ],
     "language": "python",
     "metadata": {},
     "outputs": [],
     "prompt_number": 166
    },
    {
     "cell_type": "heading",
     "level": 1,
     "metadata": {},
     "source": [
      "SCIE201 2012"
     ]
    },
    {
     "cell_type": "code",
     "collapsed": false,
     "input": [
      "paper_hist(SCIE201_2012)"
     ],
     "language": "python",
     "metadata": {},
     "outputs": [
      {
       "output_type": "stream",
       "stream": "stdout",
       "text": [
        "skip \n",
        "skip \n",
        "skip WD\n",
        "skip \n",
        "skip WD\n",
        "skip \n",
        "skip \n",
        "skip \n",
        "skip \n",
        "skip WD\n",
        "\n",
        "Excluded: 10\n",
        "\n",
        "A+"
       ]
      },
      {
       "output_type": "stream",
       "stream": "stdout",
       "text": [
        " 12\n",
        "A 10\n",
        "A- 26\n",
        "B+ 18\n",
        "B 12\n",
        "B- 9\n",
        "C+ 14\n",
        "C 5\n",
        "C- 0\n",
        "D 0\n",
        "E 7\n",
        "K 0\n",
        "\n",
        "Passed: 106\n",
        "Failed: 7\n"
       ]
      },
      {
       "metadata": {},
       "output_type": "display_data",
       "png": "[encoded data removed]",
       "text": [
        "<matplotlib.figure.Figure at 0x7fd449fad0d0>"
       ]
      }
     ],
     "prompt_number": 167
    },
    {
     "cell_type": "code",
     "collapsed": false,
     "input": [
      "paper_enrolments(SCIE201_2012)\n",
      "print\n",
      "paper_enrolment_status(SCIE201_2012)\n",
      "print\n",
      "gender_fees(SCIE201_2012)\n",
      "paper_ethnicities(SCIE201_2012)"
     ],
     "language": "python",
     "metadata": {},
     "outputs": [
      {
       "output_type": "stream",
       "stream": "stdout",
       "text": [
        "Enrolled: 113 (Excluding withdrawn)\n",
        "Withdrawn: 3\n",
        "Excluded: 7 (No grade data)\n",
        "\n",
        "DE 1\n",
        "RE 113\n",
        "DD 5\n",
        "DN 3\n",
        "PC 1\n",
        "\n",
        "Male :69\n",
        "Female :54\n",
        "\n",
        "Domestic :102\n",
        "International :21\n",
        "\n",
        "Other Asian 8\n",
        "Middle Eastern 5\n",
        "New Zealand European/Pakeha 63\n",
        "New Zealand Maori 12\n",
        "Australian 3\n",
        "Chinese 6\n",
        "Indian 3\n",
        "British/Irish 5\n",
        "Sri Lankan 1\n",
        "Other European 8\n",
        "Other Southeast Asian 4\n",
        "Other 3\n",
        "Fijian 1\n",
        "Samoan 1\n"
       ]
      }
     ],
     "prompt_number": 168
    },
    {
     "cell_type": "heading",
     "level": 1,
     "metadata": {},
     "source": [
      "SCIE201 2011"
     ]
    },
    {
     "cell_type": "code",
     "collapsed": false,
     "input": [
      "paper_hist(SCIE201_2011)"
     ],
     "language": "python",
     "metadata": {},
     "outputs": [
      {
       "output_type": "stream",
       "stream": "stdout",
       "text": [
        "skip \n",
        "skip \n",
        "skip WD\n",
        "skip WD\n",
        "skip U\n",
        "skip WD\n",
        "\n",
        "Excluded: 6\n",
        "\n",
        "A+"
       ]
      },
      {
       "output_type": "stream",
       "stream": "stdout",
       "text": [
        " 3\n",
        "A 8\n",
        "A- 10\n",
        "B+ 4\n",
        "B 2\n",
        "B- 2\n",
        "C+ 3\n",
        "C 2\n",
        "C- 0\n",
        "D 0\n",
        "E 2\n",
        "K 0\n",
        "\n",
        "Passed: 34\n",
        "Failed: 2\n"
       ]
      },
      {
       "metadata": {},
       "output_type": "display_data",
       "png": "[encoded data removed]",
       "text": [
        "<matplotlib.figure.Figure at 0x7fd44a0a8090>"
       ]
      }
     ],
     "prompt_number": 169
    },
    {
     "cell_type": "code",
     "collapsed": false,
     "input": [
      "paper_enrolments(SCIE201_2011)\n",
      "print\n",
      "paper_enrolment_status(SCIE201_2011)\n",
      "print\n",
      "gender_fees(SCIE201_2011)\n",
      "paper_ethnicities(SCIE201_2011)"
     ],
     "language": "python",
     "metadata": {},
     "outputs": [
      {
       "output_type": "stream",
       "stream": "stdout",
       "text": [
        "Enrolled: 36 (Excluding withdrawn)\n",
        "Withdrawn: 3\n",
        "Excluded: 3 (No grade data)\n",
        "\n",
        "DE 2\n",
        "RE 28\n",
        "DN 3\n",
        "RW 8\n",
        "DS 1\n",
        "\n",
        "Male :18\n",
        "Female :24\n",
        "\n",
        "Domestic :40\n",
        "International :2\n",
        "\n",
        "Other Asian 2\n",
        "New Zealand Maori 5\n",
        "New Zealand European/Pakeha 20\n",
        "British/Irish 5\n",
        "Chinese 3\n",
        "Other European 1\n",
        "Latin American 1\n",
        "Samoan 2\n",
        "African 1\n",
        "Indian 1\n",
        "Other Southeast Asian 1\n"
       ]
      }
     ],
     "prompt_number": 170
    },
    {
     "cell_type": "code",
     "collapsed": false,
     "input": [],
     "language": "python",
     "metadata": {},
     "outputs": []
    }
   ],
   "metadata": {}
  }
 ]
}
